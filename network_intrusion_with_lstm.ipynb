{
  "nbformat": 4,
  "nbformat_minor": 0,
  "metadata": {
    "kernelspec": {
      "name": "python3",
      "display_name": "Python 3"
    },
    "language_info": {
      "codemirror_mode": {
        "name": "ipython",
        "version": 3
      },
      "file_extension": ".py",
      "mimetype": "text/x-python",
      "name": "python",
      "nbconvert_exporter": "python",
      "pygments_lexer": "ipython3",
      "version": "3.7.6"
    },
    "colab": {
      "name": "network intrusion with lstm.ipynb",
      "provenance": [],
      "collapsed_sections": [],
      "toc_visible": true,
      "machine_shape": "hm",
      "include_colab_link": true
    },
    "accelerator": "GPU"
  },
  "cells": [
    {
      "cell_type": "markdown",
      "metadata": {
        "id": "view-in-github",
        "colab_type": "text"
      },
      "source": [
        "<a href=\"https://colab.research.google.com/github/sampathv95/Network-Intrusion-Detection/blob/master/network_intrusion_with_lstm.ipynb\" target=\"_parent\"><img src=\"https://colab.research.google.com/assets/colab-badge.svg\" alt=\"Open In Colab\"/></a>"
      ]
    },
    {
      "cell_type": "code",
      "metadata": {
        "id": "qm6jihVNglBp",
        "colab_type": "code",
        "outputId": "788395eb-5076-4c63-d43b-b97fc4f063e3",
        "colab": {
          "base_uri": "https://localhost:8080/",
          "height": 122
        }
      },
      "source": [
        "# mounting google drive\n",
        "from google.colab import drive\n",
        "drive.mount('/content/gdrive')"
      ],
      "execution_count": 0,
      "outputs": [
        {
          "output_type": "stream",
          "text": [
            "Go to this URL in a browser: https://accounts.google.com/o/oauth2/auth?client_id=947318989803-6bn6qk8qdgf4n4g3pfee6491hc0brc4i.apps.googleusercontent.com&redirect_uri=urn%3aietf%3awg%3aoauth%3a2.0%3aoob&response_type=code&scope=email%20https%3a%2f%2fwww.googleapis.com%2fauth%2fdocs.test%20https%3a%2f%2fwww.googleapis.com%2fauth%2fdrive%20https%3a%2f%2fwww.googleapis.com%2fauth%2fdrive.photos.readonly%20https%3a%2f%2fwww.googleapis.com%2fauth%2fpeopleapi.readonly\n",
            "\n",
            "Enter your authorization code:\n",
            "··········\n",
            "Mounted at /content/gdrive\n"
          ],
          "name": "stdout"
        }
      ]
    },
    {
      "cell_type": "markdown",
      "metadata": {
        "id": "mGfbVnfuoC7h",
        "colab_type": "text"
      },
      "source": [
        "# **NETWORK INTRUSION DETECTION USING DEEP LEARNING**\n",
        "\n",
        "---\n",
        "\n"
      ]
    },
    {
      "cell_type": "markdown",
      "metadata": {
        "id": "EChem4h4osqB",
        "colab_type": "text"
      },
      "source": [
        "Software applications to detect network intrusions protects a computer network from unauthorized users, including perhaps insiders with malicious intents.  The intrusion detection learning task is to build a predictive model (i.e. a classifier) capable of distinguishing between **'BAD'** connections a.k.a intrusions or attacks, and **'GOOD'** or normal connections.\n",
        "\n",
        "This notebook demonstrates the process of building a robust intrusion detector with an undelying assumption that intrusions are different types of anomalies which occur rarely and when they do occur, their signature is quite different from that of normal instances.\n",
        "\n",
        "Whenever an intrusion/anomaly is present, it is mostly visible in one or more features in the collected time-series data. The values of a single feature or combination of features significantly deviate from the rest of the values when everything was normal. Said differently, we can observe a difference in data distribution when an attack/intrusion occurs."
      ]
    },
    {
      "cell_type": "code",
      "metadata": {
        "id": "KZnSSx8Egbwa",
        "colab_type": "code",
        "colab": {}
      },
      "source": [
        "# importing all the necessary packages\n",
        "import tqdm\n",
        "import pandas as pd\n",
        "import numpy as np\n",
        "import tensorflow as tf\n",
        "import matplotlib.pyplot as plt\n",
        "import tensorflow as tf\n",
        "from sklearn.decomposition import PCA\n",
        "from sklearn.preprocessing import StandardScaler, LabelEncoder, MinMaxScaler, OneHotEncoder\n",
        "from mpl_toolkits import mplot3d\n",
        "from tensorflow.keras.layers import Input, Dense, LSTM, TimeDistributed, RepeatVector\n",
        "from tensorflow.keras.models import Sequential\n",
        "from tensorflow.keras.models import Model\n",
        "import tensorflow.keras.backend as K\n",
        "from scipy.spatial.distance import euclidean\n",
        "import random\n",
        "import seaborn as sns\n",
        "from sklearn.metrics import confusion_matrix, roc_auc_score, roc_curve, f1_score, precision_score, recall_score, accuracy_score"
      ],
      "execution_count": 0,
      "outputs": []
    },
    {
      "cell_type": "code",
      "metadata": {
        "id": "lw1fdo9mgeAy",
        "colab_type": "code",
        "outputId": "8b78b73d-21bf-4bb8-f569-95d9e97fed5e",
        "colab": {
          "base_uri": "https://localhost:8080/",
          "height": 34
        }
      },
      "source": [
        "# checking if tensorflow version is 2.x\n",
        "tf.__version__"
      ],
      "execution_count": 2,
      "outputs": [
        {
          "output_type": "execute_result",
          "data": {
            "text/plain": [
              "'2.2.0-rc2'"
            ]
          },
          "metadata": {
            "tags": []
          },
          "execution_count": 2
        }
      ]
    },
    {
      "cell_type": "code",
      "metadata": {
        "id": "v4uN1qHLjyIo",
        "colab_type": "code",
        "outputId": "b98f7ce7-05bc-45a9-e037-acf534d9b509",
        "colab": {
          "base_uri": "https://localhost:8080/",
          "height": 102
        }
      },
      "source": [
        "# checking if gpu is available\n",
        "print(tf.config.list_physical_devices('GPU'))\n",
        "print(tf.test.is_gpu_available())"
      ],
      "execution_count": 3,
      "outputs": [
        {
          "output_type": "stream",
          "text": [
            "[PhysicalDevice(name='/physical_device:GPU:0', device_type='GPU')]\n",
            "WARNING:tensorflow:From <ipython-input-3-183ba5a24f66>:2: is_gpu_available (from tensorflow.python.framework.test_util) is deprecated and will be removed in a future version.\n",
            "Instructions for updating:\n",
            "Use `tf.config.list_physical_devices('GPU')` instead.\n",
            "True\n"
          ],
          "name": "stdout"
        }
      ]
    },
    {
      "cell_type": "markdown",
      "metadata": {
        "id": "r17UR3jOukC9",
        "colab_type": "text"
      },
      "source": [
        "### Dataset Description\n"
      ]
    },
    {
      "cell_type": "markdown",
      "metadata": {
        "id": "8zOs6H8HwyEk",
        "colab_type": "text"
      },
      "source": [
        "To model our intrusion detection learning task we use the KDD99 dataset. The KDD99 dataset is the most widespread IDS(Instrusion Detection System) benchmark dataset. Its compilers extracted 41-dimensional features from a raw dataset called DARPA1998 dataset containing both raw TCP(Transmission Control Protocol) packets and labels. Since raw packets are not of much use for ML models. Because of this reason, a new dataset was curated called KDD99 dataset.\n",
        "\n",
        "The labels in KDD99 are the same as the DARPA1998. There are four types of features in KDD99, i.e., basic features, content features, host-based\n",
        "statistical features, and time-based statistical features.\n",
        "\n",
        "This dataset can be downloaded from:http://kdd.ics.uci.edu/databases/kddcup99/kddcup99.html\n",
        "\n",
        "In the above link, there are several versions of the data set. In this work, we used the full version of the datasets\n",
        "\n",
        "\n",
        "\n",
        "*   train data: http://kdd.ics.uci.edu/databases/kddcup99/kddcup.data.gz\n",
        "*   test_data: http://kdd.ics.uci.edu/databases/kddcup99/corrected.gz\n",
        "\n",
        "\n",
        "\n",
        "Let's start by importing the dataset"
      ]
    },
    {
      "cell_type": "code",
      "metadata": {
        "id": "9-2pl7IFoAts",
        "colab_type": "code",
        "colab": {}
      },
      "source": [
        "# setting paths to import train and test data files.\n",
        "TRAIN_DATA_PATH = 'gdrive/My Drive/capstone2/kdd_train.csv'\n",
        "COLUMN_NAMES_PATH = 'gdrive/My Drive/capstone2/columns_names.txt'\n",
        "TEST_DATA_PATH = 'gdrive/My Drive/capstone2/kdd_test.csv'"
      ],
      "execution_count": 0,
      "outputs": []
    },
    {
      "cell_type": "code",
      "metadata": {
        "id": "jsjiD2BJgbwe",
        "colab_type": "code",
        "colab": {}
      },
      "source": [
        "# reading the training data file\n",
        "df = pd.read_csv(TRAIN_DATA_PATH, header=None)"
      ],
      "execution_count": 0,
      "outputs": []
    },
    {
      "cell_type": "code",
      "metadata": {
        "id": "BLNjVk7Jgbwi",
        "colab_type": "code",
        "outputId": "aee4ce40-1580-4c4f-9552-7cdc80e3cd93",
        "colab": {
          "base_uri": "https://localhost:8080/",
          "height": 714
        }
      },
      "source": [
        "# reading the file containing feature names\n",
        "with open(COLUMN_NAMES_PATH, 'r') as txt_file:\n",
        "    col_names = txt_file.readlines()\n",
        "col_names"
      ],
      "execution_count": 6,
      "outputs": [
        {
          "output_type": "execute_result",
          "data": {
            "text/plain": [
              "['duration: continuous\\n',\n",
              " 'protocol_type: symbolic\\n',\n",
              " 'service: symbolic\\n',\n",
              " 'flag: symbolic\\n',\n",
              " 'src_bytes: continuous\\n',\n",
              " 'dst_bytes: continuous\\n',\n",
              " 'land: symbolic\\n',\n",
              " 'wrong_fragment: continuous\\n',\n",
              " 'urgent: continuous\\n',\n",
              " 'hot: continuous\\n',\n",
              " 'num_failed_logins: continuous\\n',\n",
              " 'logged_in: symbolic\\n',\n",
              " 'num_compromised: continuous\\n',\n",
              " 'root_shell: continuous\\n',\n",
              " 'su_attempted: continuous\\n',\n",
              " 'num_root: continuous\\n',\n",
              " 'num_file_creations: continuous\\n',\n",
              " 'num_shells: continuous\\n',\n",
              " 'num_access_files: continuous\\n',\n",
              " 'num_outbound_cmds: continuous\\n',\n",
              " 'is_host_login: symbolic\\n',\n",
              " 'is_guest_login: symbolic\\n',\n",
              " 'count: continuous\\n',\n",
              " 'srv_count: continuous\\n',\n",
              " 'serror_rate: continuous\\n',\n",
              " 'srv_serror_rate: continuous\\n',\n",
              " 'rerror_rate: continuous\\n',\n",
              " 'srv_rerror_rate: continuous\\n',\n",
              " 'same_srv_rate: continuous\\n',\n",
              " 'diff_srv_rate: continuous\\n',\n",
              " 'srv_diff_host_rate: continuous\\n',\n",
              " 'dst_host_count: continuous\\n',\n",
              " 'dst_host_srv_count: continuous\\n',\n",
              " 'dst_host_same_srv_rate: continuous\\n',\n",
              " 'dst_host_diff_srv_rate: continuous\\n',\n",
              " 'dst_host_same_src_port_rate: continuous\\n',\n",
              " 'dst_host_srv_diff_host_rate: continuous\\n',\n",
              " 'dst_host_serror_rate: continuous\\n',\n",
              " 'dst_host_srv_serror_rate: continuous\\n',\n",
              " 'dst_host_rerror_rate: continuous\\n',\n",
              " 'dst_host_srv_rerror_rate: continuous']"
            ]
          },
          "metadata": {
            "tags": []
          },
          "execution_count": 6
        }
      ]
    },
    {
      "cell_type": "code",
      "metadata": {
        "id": "ibC6wXuygbwo",
        "colab_type": "code",
        "colab": {}
      },
      "source": [
        "col_names_cleaned = [i.split(':')[0] for i in col_names]\n",
        "# adding an extra column for the indicator\n",
        "col_names_cleaned.extend(['result'])\n",
        "# extracting only continous features\n",
        "continous_col_indices = [col.split(':')[0] for i, col in enumerate(col_names) if col.split(':')[1]==' continuous\\n' or col.split(':')[1]==' continuous']"
      ],
      "execution_count": 0,
      "outputs": []
    },
    {
      "cell_type": "code",
      "metadata": {
        "id": "KJsVCZp2gbwt",
        "colab_type": "code",
        "outputId": "08dc611e-ebe6-4cfb-fa54-d6241511a89d",
        "colab": {
          "base_uri": "https://localhost:8080/",
          "height": 224
        }
      },
      "source": [
        "df.columns = col_names_cleaned\n",
        "df.head()"
      ],
      "execution_count": 8,
      "outputs": [
        {
          "output_type": "execute_result",
          "data": {
            "text/html": [
              "<div>\n",
              "<style scoped>\n",
              "    .dataframe tbody tr th:only-of-type {\n",
              "        vertical-align: middle;\n",
              "    }\n",
              "\n",
              "    .dataframe tbody tr th {\n",
              "        vertical-align: top;\n",
              "    }\n",
              "\n",
              "    .dataframe thead th {\n",
              "        text-align: right;\n",
              "    }\n",
              "</style>\n",
              "<table border=\"1\" class=\"dataframe\">\n",
              "  <thead>\n",
              "    <tr style=\"text-align: right;\">\n",
              "      <th></th>\n",
              "      <th>duration</th>\n",
              "      <th>protocol_type</th>\n",
              "      <th>service</th>\n",
              "      <th>flag</th>\n",
              "      <th>src_bytes</th>\n",
              "      <th>dst_bytes</th>\n",
              "      <th>land</th>\n",
              "      <th>wrong_fragment</th>\n",
              "      <th>urgent</th>\n",
              "      <th>hot</th>\n",
              "      <th>num_failed_logins</th>\n",
              "      <th>logged_in</th>\n",
              "      <th>num_compromised</th>\n",
              "      <th>root_shell</th>\n",
              "      <th>su_attempted</th>\n",
              "      <th>num_root</th>\n",
              "      <th>num_file_creations</th>\n",
              "      <th>num_shells</th>\n",
              "      <th>num_access_files</th>\n",
              "      <th>num_outbound_cmds</th>\n",
              "      <th>is_host_login</th>\n",
              "      <th>is_guest_login</th>\n",
              "      <th>count</th>\n",
              "      <th>srv_count</th>\n",
              "      <th>serror_rate</th>\n",
              "      <th>srv_serror_rate</th>\n",
              "      <th>rerror_rate</th>\n",
              "      <th>srv_rerror_rate</th>\n",
              "      <th>same_srv_rate</th>\n",
              "      <th>diff_srv_rate</th>\n",
              "      <th>srv_diff_host_rate</th>\n",
              "      <th>dst_host_count</th>\n",
              "      <th>dst_host_srv_count</th>\n",
              "      <th>dst_host_same_srv_rate</th>\n",
              "      <th>dst_host_diff_srv_rate</th>\n",
              "      <th>dst_host_same_src_port_rate</th>\n",
              "      <th>dst_host_srv_diff_host_rate</th>\n",
              "      <th>dst_host_serror_rate</th>\n",
              "      <th>dst_host_srv_serror_rate</th>\n",
              "      <th>dst_host_rerror_rate</th>\n",
              "      <th>dst_host_srv_rerror_rate</th>\n",
              "      <th>result</th>\n",
              "    </tr>\n",
              "  </thead>\n",
              "  <tbody>\n",
              "    <tr>\n",
              "      <th>0</th>\n",
              "      <td>0</td>\n",
              "      <td>tcp</td>\n",
              "      <td>http</td>\n",
              "      <td>SF</td>\n",
              "      <td>215</td>\n",
              "      <td>45076</td>\n",
              "      <td>0</td>\n",
              "      <td>0</td>\n",
              "      <td>0</td>\n",
              "      <td>0</td>\n",
              "      <td>0</td>\n",
              "      <td>1</td>\n",
              "      <td>0</td>\n",
              "      <td>0</td>\n",
              "      <td>0</td>\n",
              "      <td>0</td>\n",
              "      <td>0</td>\n",
              "      <td>0</td>\n",
              "      <td>0</td>\n",
              "      <td>0</td>\n",
              "      <td>0</td>\n",
              "      <td>0</td>\n",
              "      <td>1</td>\n",
              "      <td>1</td>\n",
              "      <td>0.0</td>\n",
              "      <td>0.0</td>\n",
              "      <td>0.0</td>\n",
              "      <td>0.0</td>\n",
              "      <td>1.0</td>\n",
              "      <td>0.0</td>\n",
              "      <td>0.0</td>\n",
              "      <td>0</td>\n",
              "      <td>0</td>\n",
              "      <td>0.0</td>\n",
              "      <td>0.0</td>\n",
              "      <td>0.00</td>\n",
              "      <td>0.0</td>\n",
              "      <td>0.0</td>\n",
              "      <td>0.0</td>\n",
              "      <td>0.0</td>\n",
              "      <td>0.0</td>\n",
              "      <td>normal.</td>\n",
              "    </tr>\n",
              "    <tr>\n",
              "      <th>1</th>\n",
              "      <td>0</td>\n",
              "      <td>tcp</td>\n",
              "      <td>http</td>\n",
              "      <td>SF</td>\n",
              "      <td>162</td>\n",
              "      <td>4528</td>\n",
              "      <td>0</td>\n",
              "      <td>0</td>\n",
              "      <td>0</td>\n",
              "      <td>0</td>\n",
              "      <td>0</td>\n",
              "      <td>1</td>\n",
              "      <td>0</td>\n",
              "      <td>0</td>\n",
              "      <td>0</td>\n",
              "      <td>0</td>\n",
              "      <td>0</td>\n",
              "      <td>0</td>\n",
              "      <td>0</td>\n",
              "      <td>0</td>\n",
              "      <td>0</td>\n",
              "      <td>0</td>\n",
              "      <td>2</td>\n",
              "      <td>2</td>\n",
              "      <td>0.0</td>\n",
              "      <td>0.0</td>\n",
              "      <td>0.0</td>\n",
              "      <td>0.0</td>\n",
              "      <td>1.0</td>\n",
              "      <td>0.0</td>\n",
              "      <td>0.0</td>\n",
              "      <td>1</td>\n",
              "      <td>1</td>\n",
              "      <td>1.0</td>\n",
              "      <td>0.0</td>\n",
              "      <td>1.00</td>\n",
              "      <td>0.0</td>\n",
              "      <td>0.0</td>\n",
              "      <td>0.0</td>\n",
              "      <td>0.0</td>\n",
              "      <td>0.0</td>\n",
              "      <td>normal.</td>\n",
              "    </tr>\n",
              "    <tr>\n",
              "      <th>2</th>\n",
              "      <td>0</td>\n",
              "      <td>tcp</td>\n",
              "      <td>http</td>\n",
              "      <td>SF</td>\n",
              "      <td>236</td>\n",
              "      <td>1228</td>\n",
              "      <td>0</td>\n",
              "      <td>0</td>\n",
              "      <td>0</td>\n",
              "      <td>0</td>\n",
              "      <td>0</td>\n",
              "      <td>1</td>\n",
              "      <td>0</td>\n",
              "      <td>0</td>\n",
              "      <td>0</td>\n",
              "      <td>0</td>\n",
              "      <td>0</td>\n",
              "      <td>0</td>\n",
              "      <td>0</td>\n",
              "      <td>0</td>\n",
              "      <td>0</td>\n",
              "      <td>0</td>\n",
              "      <td>1</td>\n",
              "      <td>1</td>\n",
              "      <td>0.0</td>\n",
              "      <td>0.0</td>\n",
              "      <td>0.0</td>\n",
              "      <td>0.0</td>\n",
              "      <td>1.0</td>\n",
              "      <td>0.0</td>\n",
              "      <td>0.0</td>\n",
              "      <td>2</td>\n",
              "      <td>2</td>\n",
              "      <td>1.0</td>\n",
              "      <td>0.0</td>\n",
              "      <td>0.50</td>\n",
              "      <td>0.0</td>\n",
              "      <td>0.0</td>\n",
              "      <td>0.0</td>\n",
              "      <td>0.0</td>\n",
              "      <td>0.0</td>\n",
              "      <td>normal.</td>\n",
              "    </tr>\n",
              "    <tr>\n",
              "      <th>3</th>\n",
              "      <td>0</td>\n",
              "      <td>tcp</td>\n",
              "      <td>http</td>\n",
              "      <td>SF</td>\n",
              "      <td>233</td>\n",
              "      <td>2032</td>\n",
              "      <td>0</td>\n",
              "      <td>0</td>\n",
              "      <td>0</td>\n",
              "      <td>0</td>\n",
              "      <td>0</td>\n",
              "      <td>1</td>\n",
              "      <td>0</td>\n",
              "      <td>0</td>\n",
              "      <td>0</td>\n",
              "      <td>0</td>\n",
              "      <td>0</td>\n",
              "      <td>0</td>\n",
              "      <td>0</td>\n",
              "      <td>0</td>\n",
              "      <td>0</td>\n",
              "      <td>0</td>\n",
              "      <td>2</td>\n",
              "      <td>2</td>\n",
              "      <td>0.0</td>\n",
              "      <td>0.0</td>\n",
              "      <td>0.0</td>\n",
              "      <td>0.0</td>\n",
              "      <td>1.0</td>\n",
              "      <td>0.0</td>\n",
              "      <td>0.0</td>\n",
              "      <td>3</td>\n",
              "      <td>3</td>\n",
              "      <td>1.0</td>\n",
              "      <td>0.0</td>\n",
              "      <td>0.33</td>\n",
              "      <td>0.0</td>\n",
              "      <td>0.0</td>\n",
              "      <td>0.0</td>\n",
              "      <td>0.0</td>\n",
              "      <td>0.0</td>\n",
              "      <td>normal.</td>\n",
              "    </tr>\n",
              "    <tr>\n",
              "      <th>4</th>\n",
              "      <td>0</td>\n",
              "      <td>tcp</td>\n",
              "      <td>http</td>\n",
              "      <td>SF</td>\n",
              "      <td>239</td>\n",
              "      <td>486</td>\n",
              "      <td>0</td>\n",
              "      <td>0</td>\n",
              "      <td>0</td>\n",
              "      <td>0</td>\n",
              "      <td>0</td>\n",
              "      <td>1</td>\n",
              "      <td>0</td>\n",
              "      <td>0</td>\n",
              "      <td>0</td>\n",
              "      <td>0</td>\n",
              "      <td>0</td>\n",
              "      <td>0</td>\n",
              "      <td>0</td>\n",
              "      <td>0</td>\n",
              "      <td>0</td>\n",
              "      <td>0</td>\n",
              "      <td>3</td>\n",
              "      <td>3</td>\n",
              "      <td>0.0</td>\n",
              "      <td>0.0</td>\n",
              "      <td>0.0</td>\n",
              "      <td>0.0</td>\n",
              "      <td>1.0</td>\n",
              "      <td>0.0</td>\n",
              "      <td>0.0</td>\n",
              "      <td>4</td>\n",
              "      <td>4</td>\n",
              "      <td>1.0</td>\n",
              "      <td>0.0</td>\n",
              "      <td>0.25</td>\n",
              "      <td>0.0</td>\n",
              "      <td>0.0</td>\n",
              "      <td>0.0</td>\n",
              "      <td>0.0</td>\n",
              "      <td>0.0</td>\n",
              "      <td>normal.</td>\n",
              "    </tr>\n",
              "  </tbody>\n",
              "</table>\n",
              "</div>"
            ],
            "text/plain": [
              "   duration protocol_type  ... dst_host_srv_rerror_rate   result\n",
              "0         0           tcp  ...                      0.0  normal.\n",
              "1         0           tcp  ...                      0.0  normal.\n",
              "2         0           tcp  ...                      0.0  normal.\n",
              "3         0           tcp  ...                      0.0  normal.\n",
              "4         0           tcp  ...                      0.0  normal.\n",
              "\n",
              "[5 rows x 42 columns]"
            ]
          },
          "metadata": {
            "tags": []
          },
          "execution_count": 8
        }
      ]
    },
    {
      "cell_type": "markdown",
      "metadata": {
        "id": "Ubm8dDHX49PQ",
        "colab_type": "text"
      },
      "source": [
        "### Data Pre-processing"
      ]
    },
    {
      "cell_type": "code",
      "metadata": {
        "id": "OOq0WckT0h7Q",
        "colab_type": "code",
        "outputId": "74785fc8-e25b-405e-a200-8efce6f2df58",
        "colab": {
          "base_uri": "https://localhost:8080/",
          "height": 170
        }
      },
      "source": [
        "print('different types of services: {}'.format(df['service'].unique()))"
      ],
      "execution_count": 9,
      "outputs": [
        {
          "output_type": "stream",
          "text": [
            "different types of services: ['http' 'smtp' 'domain_u' 'auth' 'finger' 'telnet' 'eco_i' 'ftp' 'ntp_u'\n",
            " 'ecr_i' 'other' 'urp_i' 'private' 'pop_3' 'ftp_data' 'netstat' 'daytime'\n",
            " 'ssh' 'echo' 'time' 'name' 'whois' 'domain' 'mtp' 'gopher' 'remote_job'\n",
            " 'rje' 'ctf' 'supdup' 'link' 'systat' 'discard' 'X11' 'shell' 'login'\n",
            " 'imap4' 'nntp' 'uucp' 'pm_dump' 'IRC' 'Z39_50' 'netbios_dgm' 'ldap'\n",
            " 'sunrpc' 'courier' 'exec' 'bgp' 'csnet_ns' 'http_443' 'klogin' 'printer'\n",
            " 'netbios_ssn' 'pop_2' 'nnsp' 'efs' 'hostnames' 'uucp_path' 'sql_net'\n",
            " 'vmnet' 'iso_tsap' 'netbios_ns' 'kshell' 'urh_i' 'http_2784' 'harvest'\n",
            " 'aol' 'tftp_u' 'http_8001' 'tim_i' 'red_i']\n"
          ],
          "name": "stdout"
        }
      ]
    },
    {
      "cell_type": "markdown",
      "metadata": {
        "id": "lgMSTMygp5Y3",
        "colab_type": "text"
      },
      "source": [
        "As there are many types of services in the dataset, and each sevice has different signature and charactersitics, we fixate on data that has only 'http' as the service."
      ]
    },
    {
      "cell_type": "code",
      "metadata": {
        "id": "Vp5CaEI2gbww",
        "colab_type": "code",
        "colab": {}
      },
      "source": [
        "# extracting only the rows which have http service.\n",
        "df_http = df[(df['service']=='http')]"
      ],
      "execution_count": 0,
      "outputs": []
    },
    {
      "cell_type": "code",
      "metadata": {
        "colab_type": "code",
        "id": "5oWZ-2ys2Vya",
        "outputId": "2ef20043-77bb-4169-e8b8-a280475e4833",
        "colab": {
          "base_uri": "https://localhost:8080/",
          "height": 34
        }
      },
      "source": [
        "normal_instances = df_http[df_http['result']=='normal.'].shape[0]\n",
        "anomalous_instances = df_http[df_http['result']!='normal.'].shape[0]\n",
        "print('percentage of anomalies = {}'.format(100*anomalous_instances/normal_instances))"
      ],
      "execution_count": 11,
      "outputs": [
        {
          "output_type": "stream",
          "text": [
            "percentage of anomalies = 0.6534247858802092\n"
          ],
          "name": "stdout"
        }
      ]
    },
    {
      "cell_type": "markdown",
      "metadata": {
        "id": "h3Khs1rb3gkq",
        "colab_type": "text"
      },
      "source": [
        "We can see that that dataset is highly imbalanced i.e. number of anomalous instances in the time-series is much lower than the number of normal instances. Also, this projects a real life scenario where the anomalies seldom occur.\n",
        "\n",
        "This makes it difficult to approach this problem as supervised learning because of the extreme class imbalance. Hence, we approach this task as as a one class problem where we learn the signature of a particular class which is in abundance (i.e. normal class). The model developed in this approach can identify if an instance is not likely belonging to the trained 'ONE CLASS' and can alert the user depending on metrics such as reconstruction discussed below."
      ]
    },
    {
      "cell_type": "code",
      "metadata": {
        "id": "ml5UZIKQQsTv",
        "colab_type": "code",
        "colab": {}
      },
      "source": [
        "# extracting only the instances belonging to the normal class\n",
        "df_http_normal = df_http[df_http['result']=='normal.']"
      ],
      "execution_count": 0,
      "outputs": []
    },
    {
      "cell_type": "code",
      "metadata": {
        "id": "9UiiPAxu3xNJ",
        "colab_type": "code",
        "outputId": "860e790d-122d-4c62-ea42-04eb11d56dd9",
        "colab": {
          "base_uri": "https://localhost:8080/",
          "height": 34
        }
      },
      "source": [
        "df_http_normal.shape"
      ],
      "execution_count": 13,
      "outputs": [
        {
          "output_type": "execute_result",
          "data": {
            "text/plain": [
              "(619046, 42)"
            ]
          },
          "metadata": {
            "tags": []
          },
          "execution_count": 13
        }
      ]
    },
    {
      "cell_type": "code",
      "metadata": {
        "jupyter": {
          "source_hidden": true
        },
        "id": "urFrgV6ygbwz",
        "colab_type": "code",
        "outputId": "d8373988-fa99-4b25-867a-88d1a68ceb6c",
        "colab": {
          "base_uri": "https://localhost:8080/",
          "height": 102
        }
      },
      "source": [
        "# dropping catrgorical columns\n",
        "df_http_normal.drop(['protocol_type', 'service', 'flag', 'land', 'logged_in', 'is_host_login', 'is_guest_login', 'result'], axis=1, inplace=True)\n",
        "# dropping columns with no std deviation\n",
        "df_http_normal.drop(['wrong_fragment', 'urgent', 'num_failed_logins', 'su_attempted', 'num_file_creations', 'num_outbound_cmds'], axis=1, inplace=True)"
      ],
      "execution_count": 14,
      "outputs": [
        {
          "output_type": "stream",
          "text": [
            "/usr/local/lib/python3.6/dist-packages/pandas/core/frame.py:3997: SettingWithCopyWarning: \n",
            "A value is trying to be set on a copy of a slice from a DataFrame\n",
            "\n",
            "See the caveats in the documentation: https://pandas.pydata.org/pandas-docs/stable/user_guide/indexing.html#returning-a-view-versus-a-copy\n",
            "  errors=errors,\n"
          ],
          "name": "stderr"
        }
      ]
    },
    {
      "cell_type": "code",
      "metadata": {
        "id": "9zG0Y2zo7mv_",
        "colab_type": "code",
        "colab": {
          "base_uri": "https://localhost:8080/",
          "height": 317
        },
        "outputId": "f0530293-8c11-42fc-e7f2-e51990a68ecf"
      },
      "source": [
        "df_http_normal.describe()"
      ],
      "execution_count": 16,
      "outputs": [
        {
          "output_type": "execute_result",
          "data": {
            "text/html": [
              "<div>\n",
              "<style scoped>\n",
              "    .dataframe tbody tr th:only-of-type {\n",
              "        vertical-align: middle;\n",
              "    }\n",
              "\n",
              "    .dataframe tbody tr th {\n",
              "        vertical-align: top;\n",
              "    }\n",
              "\n",
              "    .dataframe thead th {\n",
              "        text-align: right;\n",
              "    }\n",
              "</style>\n",
              "<table border=\"1\" class=\"dataframe\">\n",
              "  <thead>\n",
              "    <tr style=\"text-align: right;\">\n",
              "      <th></th>\n",
              "      <th>duration</th>\n",
              "      <th>src_bytes</th>\n",
              "      <th>dst_bytes</th>\n",
              "      <th>hot</th>\n",
              "      <th>num_compromised</th>\n",
              "      <th>root_shell</th>\n",
              "      <th>num_root</th>\n",
              "      <th>num_shells</th>\n",
              "      <th>num_access_files</th>\n",
              "      <th>count</th>\n",
              "      <th>srv_count</th>\n",
              "      <th>serror_rate</th>\n",
              "      <th>srv_serror_rate</th>\n",
              "      <th>rerror_rate</th>\n",
              "      <th>srv_rerror_rate</th>\n",
              "      <th>same_srv_rate</th>\n",
              "      <th>diff_srv_rate</th>\n",
              "      <th>srv_diff_host_rate</th>\n",
              "      <th>dst_host_count</th>\n",
              "      <th>dst_host_srv_count</th>\n",
              "      <th>dst_host_same_srv_rate</th>\n",
              "      <th>dst_host_diff_srv_rate</th>\n",
              "      <th>dst_host_same_src_port_rate</th>\n",
              "      <th>dst_host_srv_diff_host_rate</th>\n",
              "      <th>dst_host_serror_rate</th>\n",
              "      <th>dst_host_srv_serror_rate</th>\n",
              "      <th>dst_host_rerror_rate</th>\n",
              "      <th>dst_host_srv_rerror_rate</th>\n",
              "    </tr>\n",
              "  </thead>\n",
              "  <tbody>\n",
              "    <tr>\n",
              "      <th>count</th>\n",
              "      <td>619046.000000</td>\n",
              "      <td>619046.000000</td>\n",
              "      <td>6.190460e+05</td>\n",
              "      <td>619046.000000</td>\n",
              "      <td>619046.000000</td>\n",
              "      <td>619046.000000</td>\n",
              "      <td>619046.000000</td>\n",
              "      <td>619046.000000</td>\n",
              "      <td>619046.000000</td>\n",
              "      <td>619046.000000</td>\n",
              "      <td>619046.000000</td>\n",
              "      <td>619046.000000</td>\n",
              "      <td>619046.000000</td>\n",
              "      <td>619046.000000</td>\n",
              "      <td>619046.000000</td>\n",
              "      <td>619046.000000</td>\n",
              "      <td>619046.000000</td>\n",
              "      <td>619046.000000</td>\n",
              "      <td>619046.000000</td>\n",
              "      <td>619046.000000</td>\n",
              "      <td>619046.000000</td>\n",
              "      <td>619046.000000</td>\n",
              "      <td>619046.000000</td>\n",
              "      <td>619046.000000</td>\n",
              "      <td>619046.000000</td>\n",
              "      <td>619046.000000</td>\n",
              "      <td>619046.000000</td>\n",
              "      <td>619046.000000</td>\n",
              "    </tr>\n",
              "    <tr>\n",
              "      <th>mean</th>\n",
              "      <td>0.561887</td>\n",
              "      <td>238.164408</td>\n",
              "      <td>4.099786e+03</td>\n",
              "      <td>0.003489</td>\n",
              "      <td>0.000244</td>\n",
              "      <td>0.000312</td>\n",
              "      <td>0.000013</td>\n",
              "      <td>0.000010</td>\n",
              "      <td>0.005412</td>\n",
              "      <td>8.967949</td>\n",
              "      <td>11.939412</td>\n",
              "      <td>0.001742</td>\n",
              "      <td>0.002147</td>\n",
              "      <td>0.086670</td>\n",
              "      <td>0.087050</td>\n",
              "      <td>0.999875</td>\n",
              "      <td>0.000193</td>\n",
              "      <td>0.111789</td>\n",
              "      <td>127.590137</td>\n",
              "      <td>244.759520</td>\n",
              "      <td>0.997517</td>\n",
              "      <td>0.000701</td>\n",
              "      <td>0.074793</td>\n",
              "      <td>0.031858</td>\n",
              "      <td>0.001152</td>\n",
              "      <td>0.000697</td>\n",
              "      <td>0.087653</td>\n",
              "      <td>0.086727</td>\n",
              "    </tr>\n",
              "    <tr>\n",
              "      <th>std</th>\n",
              "      <td>13.927250</td>\n",
              "      <td>126.545153</td>\n",
              "      <td>2.371340e+04</td>\n",
              "      <td>0.081921</td>\n",
              "      <td>0.037207</td>\n",
              "      <td>0.017654</td>\n",
              "      <td>0.003595</td>\n",
              "      <td>0.003113</td>\n",
              "      <td>0.073364</td>\n",
              "      <td>9.252731</td>\n",
              "      <td>11.735141</td>\n",
              "      <td>0.026510</td>\n",
              "      <td>0.025574</td>\n",
              "      <td>0.280405</td>\n",
              "      <td>0.278681</td>\n",
              "      <td>0.007664</td>\n",
              "      <td>0.011216</td>\n",
              "      <td>0.217565</td>\n",
              "      <td>105.902328</td>\n",
              "      <td>39.788676</td>\n",
              "      <td>0.020105</td>\n",
              "      <td>0.006409</td>\n",
              "      <td>0.185882</td>\n",
              "      <td>0.050566</td>\n",
              "      <td>0.013363</td>\n",
              "      <td>0.003392</td>\n",
              "      <td>0.274847</td>\n",
              "      <td>0.268584</td>\n",
              "    </tr>\n",
              "    <tr>\n",
              "      <th>min</th>\n",
              "      <td>0.000000</td>\n",
              "      <td>0.000000</td>\n",
              "      <td>0.000000e+00</td>\n",
              "      <td>0.000000</td>\n",
              "      <td>0.000000</td>\n",
              "      <td>0.000000</td>\n",
              "      <td>0.000000</td>\n",
              "      <td>0.000000</td>\n",
              "      <td>0.000000</td>\n",
              "      <td>0.000000</td>\n",
              "      <td>0.000000</td>\n",
              "      <td>0.000000</td>\n",
              "      <td>0.000000</td>\n",
              "      <td>0.000000</td>\n",
              "      <td>0.000000</td>\n",
              "      <td>0.000000</td>\n",
              "      <td>0.000000</td>\n",
              "      <td>0.000000</td>\n",
              "      <td>0.000000</td>\n",
              "      <td>0.000000</td>\n",
              "      <td>0.000000</td>\n",
              "      <td>0.000000</td>\n",
              "      <td>0.000000</td>\n",
              "      <td>0.000000</td>\n",
              "      <td>0.000000</td>\n",
              "      <td>0.000000</td>\n",
              "      <td>0.000000</td>\n",
              "      <td>0.000000</td>\n",
              "    </tr>\n",
              "    <tr>\n",
              "      <th>25%</th>\n",
              "      <td>0.000000</td>\n",
              "      <td>210.000000</td>\n",
              "      <td>4.580000e+02</td>\n",
              "      <td>0.000000</td>\n",
              "      <td>0.000000</td>\n",
              "      <td>0.000000</td>\n",
              "      <td>0.000000</td>\n",
              "      <td>0.000000</td>\n",
              "      <td>0.000000</td>\n",
              "      <td>2.000000</td>\n",
              "      <td>3.000000</td>\n",
              "      <td>0.000000</td>\n",
              "      <td>0.000000</td>\n",
              "      <td>0.000000</td>\n",
              "      <td>0.000000</td>\n",
              "      <td>1.000000</td>\n",
              "      <td>0.000000</td>\n",
              "      <td>0.000000</td>\n",
              "      <td>21.000000</td>\n",
              "      <td>255.000000</td>\n",
              "      <td>1.000000</td>\n",
              "      <td>0.000000</td>\n",
              "      <td>0.000000</td>\n",
              "      <td>0.000000</td>\n",
              "      <td>0.000000</td>\n",
              "      <td>0.000000</td>\n",
              "      <td>0.000000</td>\n",
              "      <td>0.000000</td>\n",
              "    </tr>\n",
              "    <tr>\n",
              "      <th>50%</th>\n",
              "      <td>0.000000</td>\n",
              "      <td>240.000000</td>\n",
              "      <td>1.425000e+03</td>\n",
              "      <td>0.000000</td>\n",
              "      <td>0.000000</td>\n",
              "      <td>0.000000</td>\n",
              "      <td>0.000000</td>\n",
              "      <td>0.000000</td>\n",
              "      <td>0.000000</td>\n",
              "      <td>6.000000</td>\n",
              "      <td>8.000000</td>\n",
              "      <td>0.000000</td>\n",
              "      <td>0.000000</td>\n",
              "      <td>0.000000</td>\n",
              "      <td>0.000000</td>\n",
              "      <td>1.000000</td>\n",
              "      <td>0.000000</td>\n",
              "      <td>0.000000</td>\n",
              "      <td>96.000000</td>\n",
              "      <td>255.000000</td>\n",
              "      <td>1.000000</td>\n",
              "      <td>0.000000</td>\n",
              "      <td>0.010000</td>\n",
              "      <td>0.020000</td>\n",
              "      <td>0.000000</td>\n",
              "      <td>0.000000</td>\n",
              "      <td>0.000000</td>\n",
              "      <td>0.000000</td>\n",
              "    </tr>\n",
              "    <tr>\n",
              "      <th>75%</th>\n",
              "      <td>0.000000</td>\n",
              "      <td>302.000000</td>\n",
              "      <td>3.727000e+03</td>\n",
              "      <td>0.000000</td>\n",
              "      <td>0.000000</td>\n",
              "      <td>0.000000</td>\n",
              "      <td>0.000000</td>\n",
              "      <td>0.000000</td>\n",
              "      <td>0.000000</td>\n",
              "      <td>13.000000</td>\n",
              "      <td>17.000000</td>\n",
              "      <td>0.000000</td>\n",
              "      <td>0.000000</td>\n",
              "      <td>0.000000</td>\n",
              "      <td>0.000000</td>\n",
              "      <td>1.000000</td>\n",
              "      <td>0.000000</td>\n",
              "      <td>0.140000</td>\n",
              "      <td>255.000000</td>\n",
              "      <td>255.000000</td>\n",
              "      <td>1.000000</td>\n",
              "      <td>0.000000</td>\n",
              "      <td>0.050000</td>\n",
              "      <td>0.040000</td>\n",
              "      <td>0.000000</td>\n",
              "      <td>0.000000</td>\n",
              "      <td>0.000000</td>\n",
              "      <td>0.000000</td>\n",
              "    </tr>\n",
              "    <tr>\n",
              "      <th>max</th>\n",
              "      <td>3289.000000</td>\n",
              "      <td>54540.000000</td>\n",
              "      <td>1.173059e+07</td>\n",
              "      <td>21.000000</td>\n",
              "      <td>21.000000</td>\n",
              "      <td>1.000000</td>\n",
              "      <td>1.000000</td>\n",
              "      <td>1.000000</td>\n",
              "      <td>1.000000</td>\n",
              "      <td>511.000000</td>\n",
              "      <td>115.000000</td>\n",
              "      <td>1.000000</td>\n",
              "      <td>1.000000</td>\n",
              "      <td>1.000000</td>\n",
              "      <td>1.000000</td>\n",
              "      <td>1.000000</td>\n",
              "      <td>1.000000</td>\n",
              "      <td>1.000000</td>\n",
              "      <td>255.000000</td>\n",
              "      <td>255.000000</td>\n",
              "      <td>1.000000</td>\n",
              "      <td>1.000000</td>\n",
              "      <td>1.000000</td>\n",
              "      <td>1.000000</td>\n",
              "      <td>1.000000</td>\n",
              "      <td>0.500000</td>\n",
              "      <td>1.000000</td>\n",
              "      <td>1.000000</td>\n",
              "    </tr>\n",
              "  </tbody>\n",
              "</table>\n",
              "</div>"
            ],
            "text/plain": [
              "            duration  ...  dst_host_srv_rerror_rate\n",
              "count  619046.000000  ...             619046.000000\n",
              "mean        0.561887  ...                  0.086727\n",
              "std        13.927250  ...                  0.268584\n",
              "min         0.000000  ...                  0.000000\n",
              "25%         0.000000  ...                  0.000000\n",
              "50%         0.000000  ...                  0.000000\n",
              "75%         0.000000  ...                  0.000000\n",
              "max      3289.000000  ...                  1.000000\n",
              "\n",
              "[8 rows x 28 columns]"
            ]
          },
          "metadata": {
            "tags": []
          },
          "execution_count": 16
        }
      ]
    },
    {
      "cell_type": "code",
      "metadata": {
        "id": "G8iPK7Yc5qJD",
        "colab_type": "code",
        "colab": {
          "base_uri": "https://localhost:8080/",
          "height": 603
        },
        "outputId": "b82b48e0-97a3-4e0e-beca-e96cb23e76f4"
      },
      "source": [
        "df_http_normal.boxplot(figsize=(20, 10))\n",
        "plt.show()"
      ],
      "execution_count": 17,
      "outputs": [
        {
          "output_type": "display_data",
          "data": {
            "image/png": "[encoded data removed]",
            "text/plain": [
              "<Figure size 1440x720 with 1 Axes>"
            ]
          },
          "metadata": {
            "tags": [],
            "needs_background": "light"
          }
        }
      ]
    },
    {
      "cell_type": "markdown",
      "metadata": {
        "id": "wP11ZclG7Qsy",
        "colab_type": "text"
      },
      "source": [
        "When examining the ranges of values in different features we see that one of them (dst_bytes) has significantly different range than the others. And other features have different ranges. Using this data as is isn't a good practice as the model will be giving more importance to features having high numerical values but in reality, they might be equally significant as the features with low numerical values.\n",
        "\n",
        "To overcome this issue, we scale the data using StandardScaler where, each value in the feature is scaled by subtracting the mean of the feature and dividing by the standard deviation of the feature. This transforms the feature distribution to a standard normla distribution i.e. normal distribution with 0 mean and unit standard deviation."
      ]
    },
    {
      "cell_type": "code",
      "metadata": {
        "jupyter": {
          "source_hidden": true
        },
        "id": "uzGX0LqVgbw1",
        "colab_type": "code",
        "colab": {}
      },
      "source": [
        "# scaling the data using standard scaler\n",
        "scaler = StandardScaler()\n",
        "df_http_normal = pd.DataFrame(scaler.fit_transform(df_http_normal), columns=df_http_normal.columns)"
      ],
      "execution_count": 0,
      "outputs": []
    },
    {
      "cell_type": "code",
      "metadata": {
        "id": "jAepICEa9HXl",
        "colab_type": "code",
        "colab": {
          "base_uri": "https://localhost:8080/",
          "height": 730
        },
        "outputId": "cf05a6c1-1f15-4f4c-f176-6862333aa57e"
      },
      "source": [
        "plt.figure(figsize=(15, 10))\n",
        "sns.heatmap(df_http_normal.corr(), cmap='viridis')\n",
        "plt.show()"
      ],
      "execution_count": 19,
      "outputs": [
        {
          "output_type": "display_data",
          "data": {
            "image/png": "[encoded data removed]",
            "text/plain": [
              "<Figure size 1080x720 with 2 Axes>"
            ]
          },
          "metadata": {
            "tags": [],
            "needs_background": "light"
          }
        }
      ]
    },
    {
      "cell_type": "markdown",
      "metadata": {
        "id": "FkhVkYz0_dX2",
        "colab_type": "text"
      },
      "source": [
        "Although most feature are mostly not correlated, there are some pairs of error rates that show high correlation. Also the feature shape is of 28 dimensions which is too high to operate with Because of these reasons, we use PCA to reduce the feature space and simultaneously remove any correlations present in between the features.\n",
        "\n",
        "We aim to cover 80% of the variance present in the original feature space."
      ]
    },
    {
      "cell_type": "code",
      "metadata": {
        "jupyter": {
          "source_hidden": true
        },
        "id": "B6yprlIEgbw3",
        "colab_type": "code",
        "outputId": "e5f7e278-9b1d-49a0-f692-f82c6671ce90",
        "colab": {
          "base_uri": "https://localhost:8080/",
          "height": 51
        }
      },
      "source": [
        "# reducing the dimensionality of the data using PCA and covering 80% of the variance in the original data\n",
        "pca = PCA(n_components=0.8)\n",
        "pca.fit(df_http_normal)"
      ],
      "execution_count": 20,
      "outputs": [
        {
          "output_type": "execute_result",
          "data": {
            "text/plain": [
              "PCA(copy=True, iterated_power='auto', n_components=0.8, random_state=None,\n",
              "    svd_solver='auto', tol=0.0, whiten=False)"
            ]
          },
          "metadata": {
            "tags": []
          },
          "execution_count": 20
        }
      ]
    },
    {
      "cell_type": "code",
      "metadata": {
        "id": "TF-a0fjZvQiR",
        "colab_type": "code",
        "colab": {}
      },
      "source": [
        "pca_cols = ['PCA_'+ str(i) for i in range(pca.n_components_)]\n",
        "df_pca = pd.DataFrame(pca.transform(df_http_normal), columns=pca_cols)"
      ],
      "execution_count": 0,
      "outputs": []
    },
    {
      "cell_type": "code",
      "metadata": {
        "id": "YvDKk75I3uvK",
        "colab_type": "code",
        "outputId": "3ba22369-49de-47f5-daad-162819e2a4c3",
        "colab": {
          "base_uri": "https://localhost:8080/",
          "height": 204
        }
      },
      "source": [
        "df_pca.head()"
      ],
      "execution_count": 22,
      "outputs": [
        {
          "output_type": "execute_result",
          "data": {
            "text/html": [
              "<div>\n",
              "<style scoped>\n",
              "    .dataframe tbody tr th:only-of-type {\n",
              "        vertical-align: middle;\n",
              "    }\n",
              "\n",
              "    .dataframe tbody tr th {\n",
              "        vertical-align: top;\n",
              "    }\n",
              "\n",
              "    .dataframe thead th {\n",
              "        text-align: right;\n",
              "    }\n",
              "</style>\n",
              "<table border=\"1\" class=\"dataframe\">\n",
              "  <thead>\n",
              "    <tr style=\"text-align: right;\">\n",
              "      <th></th>\n",
              "      <th>PCA_0</th>\n",
              "      <th>PCA_1</th>\n",
              "      <th>PCA_2</th>\n",
              "      <th>PCA_3</th>\n",
              "      <th>PCA_4</th>\n",
              "      <th>PCA_5</th>\n",
              "      <th>PCA_6</th>\n",
              "      <th>PCA_7</th>\n",
              "      <th>PCA_8</th>\n",
              "      <th>PCA_9</th>\n",
              "      <th>PCA_10</th>\n",
              "      <th>PCA_11</th>\n",
              "      <th>PCA_12</th>\n",
              "      <th>PCA_13</th>\n",
              "    </tr>\n",
              "  </thead>\n",
              "  <tbody>\n",
              "    <tr>\n",
              "      <th>0</th>\n",
              "      <td>-1.798859</td>\n",
              "      <td>3.088944</td>\n",
              "      <td>29.703657</td>\n",
              "      <td>-10.272687</td>\n",
              "      <td>-9.938632</td>\n",
              "      <td>1.727932</td>\n",
              "      <td>5.309854</td>\n",
              "      <td>1.859650</td>\n",
              "      <td>0.355877</td>\n",
              "      <td>0.100662</td>\n",
              "      <td>0.108021</td>\n",
              "      <td>2.466347</td>\n",
              "      <td>-8.499384</td>\n",
              "      <td>-3.726095</td>\n",
              "    </tr>\n",
              "    <tr>\n",
              "      <th>1</th>\n",
              "      <td>-1.967497</td>\n",
              "      <td>0.568716</td>\n",
              "      <td>0.771258</td>\n",
              "      <td>-1.566955</td>\n",
              "      <td>1.499832</td>\n",
              "      <td>-0.431848</td>\n",
              "      <td>3.836505</td>\n",
              "      <td>0.189430</td>\n",
              "      <td>0.065545</td>\n",
              "      <td>-0.021060</td>\n",
              "      <td>-0.083078</td>\n",
              "      <td>0.425626</td>\n",
              "      <td>-0.499786</td>\n",
              "      <td>-0.914779</td>\n",
              "    </tr>\n",
              "    <tr>\n",
              "      <th>2</th>\n",
              "      <td>-1.269001</td>\n",
              "      <td>0.462764</td>\n",
              "      <td>1.034286</td>\n",
              "      <td>-1.482814</td>\n",
              "      <td>1.074706</td>\n",
              "      <td>-0.349238</td>\n",
              "      <td>3.144712</td>\n",
              "      <td>0.071235</td>\n",
              "      <td>-0.013609</td>\n",
              "      <td>-0.013818</td>\n",
              "      <td>-0.187998</td>\n",
              "      <td>0.231023</td>\n",
              "      <td>-0.123385</td>\n",
              "      <td>-1.041323</td>\n",
              "    </tr>\n",
              "    <tr>\n",
              "      <th>3</th>\n",
              "      <td>-1.038257</td>\n",
              "      <td>0.400356</td>\n",
              "      <td>1.093054</td>\n",
              "      <td>-1.340184</td>\n",
              "      <td>0.809126</td>\n",
              "      <td>-0.291742</td>\n",
              "      <td>2.937857</td>\n",
              "      <td>0.099897</td>\n",
              "      <td>-0.038134</td>\n",
              "      <td>-0.010789</td>\n",
              "      <td>-0.217200</td>\n",
              "      <td>0.226344</td>\n",
              "      <td>-0.021436</td>\n",
              "      <td>-1.016548</td>\n",
              "    </tr>\n",
              "    <tr>\n",
              "      <th>4</th>\n",
              "      <td>-0.894030</td>\n",
              "      <td>0.357148</td>\n",
              "      <td>1.109916</td>\n",
              "      <td>-1.233189</td>\n",
              "      <td>0.640405</td>\n",
              "      <td>-0.258253</td>\n",
              "      <td>2.864317</td>\n",
              "      <td>0.056544</td>\n",
              "      <td>-0.048781</td>\n",
              "      <td>-0.009322</td>\n",
              "      <td>-0.229586</td>\n",
              "      <td>0.170876</td>\n",
              "      <td>0.016926</td>\n",
              "      <td>-1.008761</td>\n",
              "    </tr>\n",
              "  </tbody>\n",
              "</table>\n",
              "</div>"
            ],
            "text/plain": [
              "      PCA_0     PCA_1      PCA_2  ...    PCA_11    PCA_12    PCA_13\n",
              "0 -1.798859  3.088944  29.703657  ...  2.466347 -8.499384 -3.726095\n",
              "1 -1.967497  0.568716   0.771258  ...  0.425626 -0.499786 -0.914779\n",
              "2 -1.269001  0.462764   1.034286  ...  0.231023 -0.123385 -1.041323\n",
              "3 -1.038257  0.400356   1.093054  ...  0.226344 -0.021436 -1.016548\n",
              "4 -0.894030  0.357148   1.109916  ...  0.170876  0.016926 -1.008761\n",
              "\n",
              "[5 rows x 14 columns]"
            ]
          },
          "metadata": {
            "tags": []
          },
          "execution_count": 22
        }
      ]
    },
    {
      "cell_type": "markdown",
      "metadata": {
        "id": "jP_STASUAV6J",
        "colab_type": "text"
      },
      "source": [
        "The data here is a time-series data even though there is no time stamp present. So we use LSTM(long short term memory) network which is a variant of RNN(recurrent neural networks) aimed to process the sequential nature of data where the order of occurence of data plays an important role.\n",
        "\n",
        "These networks require 2-D data as the input with dimension (timesteps, features) where the timesteps is a tunable number. So, we use the function below to extract 2-D windows from the data frame with a stride between the windows to ensure the data flow between consecutive windows."
      ]
    },
    {
      "cell_type": "code",
      "metadata": {
        "id": "L5abOByz0Leo",
        "colab_type": "code",
        "colab": {}
      },
      "source": [
        "def get_windows(df, window_size=20, stride=10):\n",
        "  windows_arr = []\n",
        "  for i in tqdm.tqdm(range(0, len(df)-window_size+1, stride)):\n",
        "    windows_arr.append(df.iloc[i:i+window_size, :].to_numpy())\n",
        "  return np.array(windows_arr)"
      ],
      "execution_count": 0,
      "outputs": []
    },
    {
      "cell_type": "code",
      "metadata": {
        "id": "w4q_E5Sp676e",
        "colab_type": "code",
        "outputId": "d0ddd6c9-4b37-454b-f715-5886b307396d",
        "colab": {
          "base_uri": "https://localhost:8080/",
          "height": 34
        }
      },
      "source": [
        "window_size, stride = 10, 10\n",
        "windows_arr = get_windows(df_pca, window_size, stride)"
      ],
      "execution_count": 24,
      "outputs": [
        {
          "output_type": "stream",
          "text": [
            "100%|██████████| 61904/61904 [00:07<00:00, 8594.85it/s]\n"
          ],
          "name": "stderr"
        }
      ]
    },
    {
      "cell_type": "code",
      "metadata": {
        "id": "UPlAxgSbIK12",
        "colab_type": "code",
        "colab": {}
      },
      "source": [
        "# shuffling windows for training purpose\n",
        "indices = np.arange(windows_arr.shape[0])\n",
        "np.random.shuffle(indices)\n",
        "windows_shuffled = windows_arr[indices]"
      ],
      "execution_count": 0,
      "outputs": []
    },
    {
      "cell_type": "markdown",
      "metadata": {
        "id": "jYSffRKkui8w",
        "colab_type": "text"
      },
      "source": [
        "### LSTM Autoencoder\n",
        "\n",
        "Autoencoders majorly come under self supervised learning. There are two parts in an autoencoder: encoder and decoder. The encoder takes in the input (2-D here) and compresses it into a latent vector of lower (sometimes higher) dimension. The decoder takes in this latent vector and attempts to reconstruct the input data as closely as possible.\n",
        "\n",
        "The process of reconstruction ensures that the latent vectors have some meaningful information in them and are not any random vectors.\n",
        "\n",
        "One of the major applications of autoencoders is non linear dimensionality reduction where the latent representation is used further downstream in the process to train models. The autoencoders also perform well on capturing the distribution of data through reconstruction.\n",
        "\n",
        "Let's go ahead build one using the tf.keras library of the famous tensorflow deep learning framework."
      ]
    },
    {
      "cell_type": "code",
      "metadata": {
        "id": "6ZTSW0eYfVIz",
        "colab_type": "code",
        "outputId": "f6568793-dc2d-4721-d380-e515f89e818b",
        "colab": {
          "base_uri": "https://localhost:8080/",
          "height": 306
        }
      },
      "source": [
        "K.clear_session()\n",
        "# encoder model with stacked LSTM\n",
        "encoder = Sequential([LSTM(80, return_sequences=True, activation='selu',input_shape=(window_size, 14), dropout=0.2), LSTM(50, activation='selu', return_sequences=True), \n",
        "                      LSTM(20, activation='selu')], name='encoder')\n",
        "# decoder model with output dimension same as input dimension\n",
        "decoder = Sequential([RepeatVector(window_size), LSTM(50, activation='selu', return_sequences=True), LSTM(80, activation='selu',return_sequences=True), \n",
        "                      TimeDistributed(Dense(14, activation='linear'))], name='decoder')\n",
        "# creating sequential autoencoder using encoder, decoder as layers\n",
        "autoencoder = Sequential([encoder, decoder], name='autoencoder')\n",
        "autoencoder.compile(optimizer='adam', loss = tf.keras.losses.Huber(100.))\n",
        "autoencoder.summary()"
      ],
      "execution_count": 26,
      "outputs": [
        {
          "output_type": "stream",
          "text": [
            "WARNING:tensorflow:Layer lstm will not use cuDNN kernel since it doesn't meet the cuDNN kernel criteria. It will use generic GPU kernel as fallback when running on GPU\n",
            "WARNING:tensorflow:Layer lstm_1 will not use cuDNN kernel since it doesn't meet the cuDNN kernel criteria. It will use generic GPU kernel as fallback when running on GPU\n",
            "WARNING:tensorflow:Layer lstm_2 will not use cuDNN kernel since it doesn't meet the cuDNN kernel criteria. It will use generic GPU kernel as fallback when running on GPU\n",
            "WARNING:tensorflow:Layer lstm_3 will not use cuDNN kernel since it doesn't meet the cuDNN kernel criteria. It will use generic GPU kernel as fallback when running on GPU\n",
            "WARNING:tensorflow:Layer lstm_4 will not use cuDNN kernel since it doesn't meet the cuDNN kernel criteria. It will use generic GPU kernel as fallback when running on GPU\n",
            "Model: \"autoencoder\"\n",
            "_________________________________________________________________\n",
            "Layer (type)                 Output Shape              Param #   \n",
            "=================================================================\n",
            "encoder (Sequential)         (None, 20)                62280     \n",
            "_________________________________________________________________\n",
            "decoder (Sequential)         (None, 10, 14)            57254     \n",
            "=================================================================\n",
            "Total params: 119,534\n",
            "Trainable params: 119,534\n",
            "Non-trainable params: 0\n",
            "_________________________________________________________________\n"
          ],
          "name": "stdout"
        }
      ]
    },
    {
      "cell_type": "code",
      "metadata": {
        "id": "j6zq4GK4EmyR",
        "colab_type": "code",
        "colab": {
          "base_uri": "https://localhost:8080/",
          "height": 544
        },
        "outputId": "6d216fb1-9180-4d99-ff95-3e89a504d52e"
      },
      "source": [
        "encoder.summary(), decoder.summary()"
      ],
      "execution_count": 27,
      "outputs": [
        {
          "output_type": "stream",
          "text": [
            "Model: \"encoder\"\n",
            "_________________________________________________________________\n",
            "Layer (type)                 Output Shape              Param #   \n",
            "=================================================================\n",
            "lstm (LSTM)                  (None, 10, 80)            30400     \n",
            "_________________________________________________________________\n",
            "lstm_1 (LSTM)                (None, 10, 50)            26200     \n",
            "_________________________________________________________________\n",
            "lstm_2 (LSTM)                (None, 20)                5680      \n",
            "=================================================================\n",
            "Total params: 62,280\n",
            "Trainable params: 62,280\n",
            "Non-trainable params: 0\n",
            "_________________________________________________________________\n",
            "Model: \"decoder\"\n",
            "_________________________________________________________________\n",
            "Layer (type)                 Output Shape              Param #   \n",
            "=================================================================\n",
            "repeat_vector (RepeatVector) (None, 10, 20)            0         \n",
            "_________________________________________________________________\n",
            "lstm_3 (LSTM)                (None, 10, 50)            14200     \n",
            "_________________________________________________________________\n",
            "lstm_4 (LSTM)                (None, 10, 80)            41920     \n",
            "_________________________________________________________________\n",
            "time_distributed (TimeDistri (None, 10, 14)            1134      \n",
            "=================================================================\n",
            "Total params: 57,254\n",
            "Trainable params: 57,254\n",
            "Non-trainable params: 0\n",
            "_________________________________________________________________\n"
          ],
          "name": "stdout"
        },
        {
          "output_type": "execute_result",
          "data": {
            "text/plain": [
              "(None, None)"
            ]
          },
          "metadata": {
            "tags": []
          },
          "execution_count": 27
        }
      ]
    },
    {
      "cell_type": "markdown",
      "metadata": {
        "id": "pL9l7L9_FKfG",
        "colab_type": "text"
      },
      "source": [
        "Now, we train the model using the data generated above. A small portion of data called the validation set is set aside to measure the performance of the model at the end of each epoch. The model and it's set of parameters which tend to perform best on the validation data is saved if the there is a improvement in performance. Later this model is restored for inference purposes."
      ]
    },
    {
      "cell_type": "code",
      "metadata": {
        "collapsed": true,
        "jupyter": {
          "outputs_hidden": true,
          "source_hidden": true
        },
        "id": "Sm0fPTyIgbw7",
        "colab_type": "code",
        "outputId": "737f7676-ca8a-49be-ffc6-27cbfa01350a",
        "colab": {
          "base_uri": "https://localhost:8080/",
          "height": 1000
        }
      },
      "source": [
        "check_point = tf.keras.callbacks.ModelCheckpoint('autoencoder.h5', monitor='val_loss', save_best_only=True, mode='min', verbose=1)\n",
        "train_hist = autoencoder.fit(windows_shuffled, windows_shuffled[:, :, ::-1], batch_size=64, validation_split=0.2, epochs=100, callbacks=[check_point])"
      ],
      "execution_count": 0,
      "outputs": [
        {
          "output_type": "stream",
          "text": [
            "Epoch 1/100\n",
            "774/774 [==============================] - ETA: 0s - loss: 0.4318\n",
            "Epoch 00001: val_loss improved from inf to 0.36632, saving model to autoencoder.h5\n",
            "774/774 [==============================] - 80s 103ms/step - loss: 0.4318 - val_loss: 0.3663\n",
            "Epoch 2/100\n",
            "774/774 [==============================] - ETA: 0s - loss: 0.3877\n",
            "Epoch 00002: val_loss improved from 0.36632 to 0.33195, saving model to autoencoder.h5\n",
            "774/774 [==============================] - 80s 103ms/step - loss: 0.3877 - val_loss: 0.3320\n",
            "Epoch 3/100\n",
            "774/774 [==============================] - ETA: 0s - loss: 0.3902\n",
            "Epoch 00003: val_loss improved from 0.33195 to 0.32236, saving model to autoencoder.h5\n",
            "774/774 [==============================] - 79s 102ms/step - loss: 0.3902 - val_loss: 0.3224\n",
            "Epoch 4/100\n",
            "774/774 [==============================] - ETA: 0s - loss: 0.3503\n",
            "Epoch 00004: val_loss improved from 0.32236 to 0.30271, saving model to autoencoder.h5\n",
            "774/774 [==============================] - 79s 102ms/step - loss: 0.3503 - val_loss: 0.3027\n",
            "Epoch 5/100\n",
            "774/774 [==============================] - ETA: 0s - loss: 0.3369\n",
            "Epoch 00005: val_loss improved from 0.30271 to 0.28995, saving model to autoencoder.h5\n",
            "774/774 [==============================] - 79s 102ms/step - loss: 0.3369 - val_loss: 0.2900\n",
            "Epoch 6/100\n",
            "774/774 [==============================] - ETA: 0s - loss: 0.3334\n",
            "Epoch 00006: val_loss did not improve from 0.28995\n",
            "774/774 [==============================] - 79s 102ms/step - loss: 0.3334 - val_loss: 0.3077\n",
            "Epoch 7/100\n",
            "774/774 [==============================] - ETA: 0s - loss: 0.3212\n",
            "Epoch 00007: val_loss improved from 0.28995 to 0.26454, saving model to autoencoder.h5\n",
            "774/774 [==============================] - 78s 101ms/step - loss: 0.3212 - val_loss: 0.2645\n",
            "Epoch 8/100\n",
            "774/774 [==============================] - ETA: 0s - loss: 0.3096\n",
            "Epoch 00008: val_loss did not improve from 0.26454\n",
            "774/774 [==============================] - 78s 100ms/step - loss: 0.3096 - val_loss: 0.2714\n",
            "Epoch 9/100\n",
            "774/774 [==============================] - ETA: 0s - loss: 0.3003\n",
            "Epoch 00009: val_loss improved from 0.26454 to 0.25819, saving model to autoencoder.h5\n",
            "774/774 [==============================] - 78s 100ms/step - loss: 0.3003 - val_loss: 0.2582\n",
            "Epoch 10/100\n",
            "774/774 [==============================] - ETA: 0s - loss: 0.3009\n",
            "Epoch 00010: val_loss did not improve from 0.25819\n",
            "774/774 [==============================] - 78s 101ms/step - loss: 0.3009 - val_loss: 0.2610\n",
            "Epoch 11/100\n",
            "774/774 [==============================] - ETA: 0s - loss: 0.2877\n",
            "Epoch 00011: val_loss improved from 0.25819 to 0.25254, saving model to autoencoder.h5\n",
            "774/774 [==============================] - 77s 99ms/step - loss: 0.2877 - val_loss: 0.2525\n",
            "Epoch 12/100\n",
            "774/774 [==============================] - ETA: 0s - loss: 0.2821\n",
            "Epoch 00012: val_loss improved from 0.25254 to 0.22618, saving model to autoencoder.h5\n",
            "774/774 [==============================] - 77s 100ms/step - loss: 0.2821 - val_loss: 0.2262\n",
            "Epoch 13/100\n",
            "774/774 [==============================] - ETA: 0s - loss: 0.2850\n",
            "Epoch 00013: val_loss did not improve from 0.22618\n",
            "774/774 [==============================] - 77s 100ms/step - loss: 0.2850 - val_loss: 0.2330\n",
            "Epoch 14/100\n",
            "774/774 [==============================] - ETA: 0s - loss: 0.2756\n",
            "Epoch 00014: val_loss improved from 0.22618 to 0.22255, saving model to autoencoder.h5\n",
            "774/774 [==============================] - 78s 100ms/step - loss: 0.2756 - val_loss: 0.2225\n",
            "Epoch 15/100\n",
            "774/774 [==============================] - ETA: 0s - loss: 0.2600\n",
            "Epoch 00015: val_loss improved from 0.22255 to 0.21832, saving model to autoencoder.h5\n",
            "774/774 [==============================] - 78s 100ms/step - loss: 0.2600 - val_loss: 0.2183\n",
            "Epoch 16/100\n",
            "774/774 [==============================] - ETA: 0s - loss: 0.2540\n",
            "Epoch 00016: val_loss did not improve from 0.21832\n",
            "774/774 [==============================] - 78s 100ms/step - loss: 0.2540 - val_loss: 0.2424\n",
            "Epoch 17/100\n",
            "774/774 [==============================] - ETA: 0s - loss: 0.2621\n",
            "Epoch 00017: val_loss did not improve from 0.21832\n",
            "774/774 [==============================] - 77s 100ms/step - loss: 0.2621 - val_loss: 0.2200\n",
            "Epoch 18/100\n",
            "774/774 [==============================] - ETA: 0s - loss: 0.2559\n",
            "Epoch 00018: val_loss improved from 0.21832 to 0.19688, saving model to autoencoder.h5\n",
            "774/774 [==============================] - 78s 101ms/step - loss: 0.2559 - val_loss: 0.1969\n",
            "Epoch 19/100\n",
            "774/774 [==============================] - ETA: 0s - loss: 0.2493\n",
            "Epoch 00019: val_loss did not improve from 0.19688\n",
            "774/774 [==============================] - 77s 100ms/step - loss: 0.2493 - val_loss: 0.2872\n",
            "Epoch 20/100\n",
            "774/774 [==============================] - ETA: 0s - loss: 0.2648\n",
            "Epoch 00020: val_loss did not improve from 0.19688\n",
            "774/774 [==============================] - 78s 101ms/step - loss: 0.2648 - val_loss: 0.2148\n",
            "Epoch 21/100\n",
            "774/774 [==============================] - ETA: 0s - loss: 0.2467\n",
            "Epoch 00021: val_loss did not improve from 0.19688\n",
            "774/774 [==============================] - 77s 100ms/step - loss: 0.2467 - val_loss: 0.2211\n",
            "Epoch 22/100\n",
            "774/774 [==============================] - ETA: 0s - loss: 0.2546\n",
            "Epoch 00022: val_loss did not improve from 0.19688\n",
            "774/774 [==============================] - 77s 100ms/step - loss: 0.2546 - val_loss: 0.2065\n",
            "Epoch 23/100\n",
            "774/774 [==============================] - ETA: 0s - loss: 0.2554\n",
            "Epoch 00023: val_loss did not improve from 0.19688\n",
            "774/774 [==============================] - 76s 99ms/step - loss: 0.2554 - val_loss: 0.2041\n",
            "Epoch 24/100\n",
            "774/774 [==============================] - ETA: 0s - loss: 0.2495\n",
            "Epoch 00024: val_loss did not improve from 0.19688\n",
            "774/774 [==============================] - 77s 99ms/step - loss: 0.2495 - val_loss: 0.2083\n",
            "Epoch 25/100\n",
            "774/774 [==============================] - ETA: 0s - loss: 0.2606\n",
            "Epoch 00025: val_loss did not improve from 0.19688\n",
            "774/774 [==============================] - 77s 99ms/step - loss: 0.2606 - val_loss: 0.1975\n",
            "Epoch 26/100\n",
            "774/774 [==============================] - ETA: 0s - loss: 0.2233\n",
            "Epoch 00026: val_loss improved from 0.19688 to 0.16955, saving model to autoencoder.h5\n",
            "774/774 [==============================] - 78s 100ms/step - loss: 0.2233 - val_loss: 0.1696\n",
            "Epoch 27/100\n",
            "774/774 [==============================] - ETA: 0s - loss: 0.2137\n",
            "Epoch 00027: val_loss did not improve from 0.16955\n",
            "774/774 [==============================] - 77s 99ms/step - loss: 0.2137 - val_loss: 0.1775\n",
            "Epoch 28/100\n",
            "774/774 [==============================] - ETA: 0s - loss: 0.2467\n",
            "Epoch 00028: val_loss improved from 0.16955 to 0.16075, saving model to autoencoder.h5\n",
            "774/774 [==============================] - 77s 99ms/step - loss: 0.2467 - val_loss: 0.1608\n",
            "Epoch 29/100\n",
            "774/774 [==============================] - ETA: 0s - loss: 0.2405\n",
            "Epoch 00029: val_loss did not improve from 0.16075\n",
            "774/774 [==============================] - 76s 99ms/step - loss: 0.2405 - val_loss: 0.3504\n",
            "Epoch 30/100\n",
            "774/774 [==============================] - ETA: 0s - loss: 0.2684\n",
            "Epoch 00030: val_loss did not improve from 0.16075\n",
            "774/774 [==============================] - 77s 99ms/step - loss: 0.2684 - val_loss: 0.1954\n",
            "Epoch 31/100\n",
            "774/774 [==============================] - ETA: 0s - loss: 0.2291\n",
            "Epoch 00031: val_loss did not improve from 0.16075\n",
            "774/774 [==============================] - 76s 99ms/step - loss: 0.2291 - val_loss: 0.1832\n",
            "Epoch 32/100\n",
            "774/774 [==============================] - ETA: 0s - loss: 0.2238\n",
            "Epoch 00032: val_loss did not improve from 0.16075\n",
            "774/774 [==============================] - 76s 99ms/step - loss: 0.2238 - val_loss: 0.2071\n",
            "Epoch 33/100\n",
            "774/774 [==============================] - ETA: 0s - loss: 0.2153\n",
            "Epoch 00033: val_loss did not improve from 0.16075\n",
            "774/774 [==============================] - 76s 98ms/step - loss: 0.2153 - val_loss: 0.1737\n",
            "Epoch 34/100\n",
            "774/774 [==============================] - ETA: 0s - loss: 0.2605\n",
            "Epoch 00034: val_loss improved from 0.16075 to 0.15549, saving model to autoencoder.h5\n",
            "774/774 [==============================] - 76s 99ms/step - loss: 0.2605 - val_loss: 0.1555\n",
            "Epoch 35/100\n",
            "774/774 [==============================] - ETA: 0s - loss: 0.2182\n",
            "Epoch 00035: val_loss improved from 0.15549 to 0.15207, saving model to autoencoder.h5\n",
            "774/774 [==============================] - 76s 98ms/step - loss: 0.2182 - val_loss: 0.1521\n",
            "Epoch 36/100\n",
            "774/774 [==============================] - ETA: 0s - loss: 0.2272\n",
            "Epoch 00036: val_loss did not improve from 0.15207\n",
            "774/774 [==============================] - 75s 97ms/step - loss: 0.2272 - val_loss: 0.1901\n",
            "Epoch 37/100\n",
            "774/774 [==============================] - ETA: 0s - loss: 0.2341\n",
            "Epoch 00037: val_loss did not improve from 0.15207\n",
            "774/774 [==============================] - 75s 97ms/step - loss: 0.2341 - val_loss: 0.1790\n",
            "Epoch 38/100\n",
            "774/774 [==============================] - ETA: 0s - loss: 0.2635\n",
            "Epoch 00038: val_loss did not improve from 0.15207\n",
            "774/774 [==============================] - 76s 98ms/step - loss: 0.2635 - val_loss: 0.1744\n",
            "Epoch 39/100\n",
            "774/774 [==============================] - ETA: 0s - loss: 0.2273\n",
            "Epoch 00039: val_loss did not improve from 0.15207\n",
            "774/774 [==============================] - 76s 98ms/step - loss: 0.2273 - val_loss: 0.1750\n",
            "Epoch 40/100\n",
            "774/774 [==============================] - ETA: 0s - loss: 0.2156\n",
            "Epoch 00040: val_loss did not improve from 0.15207\n",
            "774/774 [==============================] - 75s 97ms/step - loss: 0.2156 - val_loss: 0.1649\n",
            "Epoch 41/100\n",
            "774/774 [==============================] - ETA: 0s - loss: 0.2143\n",
            "Epoch 00041: val_loss did not improve from 0.15207\n",
            "774/774 [==============================] - 76s 98ms/step - loss: 0.2143 - val_loss: 0.1927\n",
            "Epoch 42/100\n",
            "774/774 [==============================] - ETA: 0s - loss: 0.2124\n",
            "Epoch 00042: val_loss did not improve from 0.15207\n",
            "774/774 [==============================] - 76s 99ms/step - loss: 0.2124 - val_loss: 0.1535\n",
            "Epoch 43/100\n",
            "774/774 [==============================] - ETA: 0s - loss: 0.2266\n",
            "Epoch 00043: val_loss did not improve from 0.15207\n",
            "774/774 [==============================] - 75s 97ms/step - loss: 0.2266 - val_loss: 0.1723\n",
            "Epoch 44/100\n",
            "774/774 [==============================] - ETA: 0s - loss: 0.2182\n",
            "Epoch 00044: val_loss did not improve from 0.15207\n",
            "774/774 [==============================] - 76s 98ms/step - loss: 0.2182 - val_loss: 0.1737\n",
            "Epoch 45/100\n",
            "774/774 [==============================] - ETA: 0s - loss: 0.2215\n",
            "Epoch 00045: val_loss did not improve from 0.15207\n",
            "774/774 [==============================] - 76s 98ms/step - loss: 0.2215 - val_loss: 0.1609\n",
            "Epoch 46/100\n",
            "774/774 [==============================] - ETA: 0s - loss: 0.2130\n",
            "Epoch 00046: val_loss did not improve from 0.15207\n",
            "774/774 [==============================] - 76s 98ms/step - loss: 0.2130 - val_loss: 0.1846\n",
            "Epoch 47/100\n",
            "774/774 [==============================] - ETA: 0s - loss: 0.2231\n",
            "Epoch 00047: val_loss did not improve from 0.15207\n",
            "774/774 [==============================] - 76s 98ms/step - loss: 0.2231 - val_loss: 0.1604\n",
            "Epoch 48/100\n",
            "774/774 [==============================] - ETA: 0s - loss: 0.2197\n",
            "Epoch 00048: val_loss did not improve from 0.15207\n",
            "774/774 [==============================] - 76s 98ms/step - loss: 0.2197 - val_loss: 0.1663\n",
            "Epoch 49/100\n",
            "774/774 [==============================] - ETA: 0s - loss: 0.2145\n",
            "Epoch 00049: val_loss did not improve from 0.15207\n",
            "774/774 [==============================] - 76s 98ms/step - loss: 0.2145 - val_loss: 0.1769\n",
            "Epoch 50/100\n",
            "774/774 [==============================] - ETA: 0s - loss: 0.2189\n",
            "Epoch 00050: val_loss did not improve from 0.15207\n",
            "774/774 [==============================] - 76s 99ms/step - loss: 0.2189 - val_loss: 0.1721\n",
            "Epoch 51/100\n",
            "774/774 [==============================] - ETA: 0s - loss: 0.2135\n",
            "Epoch 00051: val_loss did not improve from 0.15207\n",
            "774/774 [==============================] - 77s 99ms/step - loss: 0.2135 - val_loss: 0.1829\n",
            "Epoch 52/100\n",
            "774/774 [==============================] - ETA: 0s - loss: 0.2239\n",
            "Epoch 00052: val_loss did not improve from 0.15207\n",
            "774/774 [==============================] - 76s 98ms/step - loss: 0.2239 - val_loss: 0.1735\n",
            "Epoch 53/100\n",
            "774/774 [==============================] - ETA: 0s - loss: 0.2342\n",
            "Epoch 00053: val_loss did not improve from 0.15207\n",
            "774/774 [==============================] - 76s 98ms/step - loss: 0.2342 - val_loss: 0.1982\n",
            "Epoch 54/100\n",
            "774/774 [==============================] - ETA: 0s - loss: 0.2271\n",
            "Epoch 00054: val_loss did not improve from 0.15207\n",
            "774/774 [==============================] - 76s 98ms/step - loss: 0.2271 - val_loss: 0.1657\n",
            "Epoch 55/100\n",
            "774/774 [==============================] - ETA: 0s - loss: 0.2191\n",
            "Epoch 00055: val_loss did not improve from 0.15207\n",
            "774/774 [==============================] - 76s 99ms/step - loss: 0.2191 - val_loss: 0.1808\n",
            "Epoch 56/100\n",
            "774/774 [==============================] - ETA: 0s - loss: 0.2312\n",
            "Epoch 00056: val_loss did not improve from 0.15207\n",
            "774/774 [==============================] - 76s 98ms/step - loss: 0.2312 - val_loss: 0.1625\n",
            "Epoch 57/100\n",
            "774/774 [==============================] - ETA: 0s - loss: 0.2087\n",
            "Epoch 00057: val_loss did not improve from 0.15207\n",
            "774/774 [==============================] - 76s 98ms/step - loss: 0.2087 - val_loss: 0.1581\n",
            "Epoch 58/100\n",
            "774/774 [==============================] - ETA: 0s - loss: 0.2154\n",
            "Epoch 00058: val_loss improved from 0.15207 to 0.14714, saving model to autoencoder.h5\n",
            "774/774 [==============================] - 77s 99ms/step - loss: 0.2154 - val_loss: 0.1471\n",
            "Epoch 59/100\n",
            "774/774 [==============================] - ETA: 0s - loss: 0.2104\n",
            "Epoch 00059: val_loss did not improve from 0.14714\n",
            "774/774 [==============================] - 77s 100ms/step - loss: 0.2104 - val_loss: 0.1523\n",
            "Epoch 60/100\n",
            "774/774 [==============================] - ETA: 0s - loss: 0.2193\n",
            "Epoch 00060: val_loss did not improve from 0.14714\n",
            "774/774 [==============================] - 77s 99ms/step - loss: 0.2193 - val_loss: 0.2260\n",
            "Epoch 61/100\n",
            "774/774 [==============================] - ETA: 0s - loss: 0.2191\n",
            "Epoch 00061: val_loss did not improve from 0.14714\n",
            "774/774 [==============================] - 77s 99ms/step - loss: 0.2191 - val_loss: 0.1741\n",
            "Epoch 62/100\n",
            "774/774 [==============================] - ETA: 0s - loss: 0.2030\n",
            "Epoch 00062: val_loss did not improve from 0.14714\n",
            "774/774 [==============================] - 77s 100ms/step - loss: 0.2030 - val_loss: 0.1830\n",
            "Epoch 63/100\n",
            "774/774 [==============================] - ETA: 0s - loss: 0.2138\n",
            "Epoch 00063: val_loss did not improve from 0.14714\n",
            "774/774 [==============================] - 77s 99ms/step - loss: 0.2138 - val_loss: 0.1784\n",
            "Epoch 64/100\n",
            "774/774 [==============================] - ETA: 0s - loss: 0.2460\n",
            "Epoch 00064: val_loss did not improve from 0.14714\n",
            "774/774 [==============================] - 77s 99ms/step - loss: 0.2460 - val_loss: 0.1906\n",
            "Epoch 65/100\n",
            "774/774 [==============================] - ETA: 0s - loss: 0.2594\n",
            "Epoch 00065: val_loss did not improve from 0.14714\n",
            "774/774 [==============================] - 77s 99ms/step - loss: 0.2594 - val_loss: 0.2275\n",
            "Epoch 66/100\n",
            "774/774 [==============================] - ETA: 0s - loss: 0.2470\n",
            "Epoch 00066: val_loss did not improve from 0.14714\n",
            "774/774 [==============================] - 77s 99ms/step - loss: 0.2470 - val_loss: 0.1900\n",
            "Epoch 67/100\n",
            "774/774 [==============================] - ETA: 0s - loss: 0.2241\n",
            "Epoch 00067: val_loss did not improve from 0.14714\n",
            "774/774 [==============================] - 77s 99ms/step - loss: 0.2241 - val_loss: 0.2163\n",
            "Epoch 68/100\n",
            "774/774 [==============================] - ETA: 0s - loss: 0.2310\n",
            "Epoch 00068: val_loss did not improve from 0.14714\n",
            "774/774 [==============================] - 76s 99ms/step - loss: 0.2310 - val_loss: 0.1639\n",
            "Epoch 69/100\n",
            "774/774 [==============================] - ETA: 0s - loss: 0.2117\n",
            "Epoch 00069: val_loss did not improve from 0.14714\n",
            "774/774 [==============================] - 77s 99ms/step - loss: 0.2117 - val_loss: 0.1770\n",
            "Epoch 70/100\n",
            "774/774 [==============================] - ETA: 0s - loss: 0.2067\n",
            "Epoch 00070: val_loss did not improve from 0.14714\n",
            "774/774 [==============================] - 78s 101ms/step - loss: 0.2067 - val_loss: 0.1842\n",
            "Epoch 71/100\n",
            "774/774 [==============================] - ETA: 0s - loss: 0.2123\n",
            "Epoch 00071: val_loss did not improve from 0.14714\n",
            "774/774 [==============================] - 78s 101ms/step - loss: 0.2123 - val_loss: 0.1642\n",
            "Epoch 72/100\n",
            "774/774 [==============================] - ETA: 0s - loss: 0.2215\n",
            "Epoch 00072: val_loss did not improve from 0.14714\n",
            "774/774 [==============================] - 76s 99ms/step - loss: 0.2215 - val_loss: 0.1748\n",
            "Epoch 73/100\n",
            "774/774 [==============================] - ETA: 0s - loss: 0.2450\n",
            "Epoch 00073: val_loss did not improve from 0.14714\n",
            "774/774 [==============================] - 76s 98ms/step - loss: 0.2450 - val_loss: 0.1688\n",
            "Epoch 74/100\n",
            "774/774 [==============================] - ETA: 0s - loss: 0.2189\n",
            "Epoch 00074: val_loss did not improve from 0.14714\n",
            "774/774 [==============================] - 77s 99ms/step - loss: 0.2189 - val_loss: 0.1579\n",
            "Epoch 75/100\n",
            "774/774 [==============================] - ETA: 0s - loss: 0.2147\n",
            "Epoch 00075: val_loss did not improve from 0.14714\n",
            "774/774 [==============================] - 77s 100ms/step - loss: 0.2147 - val_loss: 0.1895\n",
            "Epoch 76/100\n",
            "774/774 [==============================] - ETA: 0s - loss: 0.2240\n",
            "Epoch 00076: val_loss did not improve from 0.14714\n",
            "774/774 [==============================] - 77s 100ms/step - loss: 0.2240 - val_loss: 0.1678\n",
            "Epoch 77/100\n",
            "774/774 [==============================] - ETA: 0s - loss: 0.2058\n",
            "Epoch 00077: val_loss did not improve from 0.14714\n",
            "774/774 [==============================] - 77s 99ms/step - loss: 0.2058 - val_loss: 0.1646\n",
            "Epoch 78/100\n",
            "774/774 [==============================] - ETA: 0s - loss: 0.2046\n",
            "Epoch 00078: val_loss did not improve from 0.14714\n",
            "774/774 [==============================] - 77s 100ms/step - loss: 0.2046 - val_loss: 0.1518\n",
            "Epoch 79/100\n",
            "774/774 [==============================] - ETA: 0s - loss: 0.2130\n",
            "Epoch 00079: val_loss did not improve from 0.14714\n",
            "774/774 [==============================] - 77s 100ms/step - loss: 0.2130 - val_loss: 0.2065\n",
            "Epoch 80/100\n",
            "774/774 [==============================] - ETA: 0s - loss: 0.2270\n",
            "Epoch 00080: val_loss did not improve from 0.14714\n",
            "774/774 [==============================] - 77s 100ms/step - loss: 0.2270 - val_loss: 0.1717\n",
            "Epoch 81/100\n",
            "774/774 [==============================] - ETA: 0s - loss: 0.2688\n",
            "Epoch 00081: val_loss did not improve from 0.14714\n",
            "774/774 [==============================] - 77s 99ms/step - loss: 0.2688 - val_loss: 0.1826\n",
            "Epoch 82/100\n",
            "774/774 [==============================] - ETA: 0s - loss: 0.2607\n",
            "Epoch 00082: val_loss did not improve from 0.14714\n",
            "774/774 [==============================] - 76s 98ms/step - loss: 0.2607 - val_loss: 0.1735\n",
            "Epoch 83/100\n",
            "774/774 [==============================] - ETA: 0s - loss: 0.2839\n",
            "Epoch 00083: val_loss did not improve from 0.14714\n",
            "774/774 [==============================] - 77s 99ms/step - loss: 0.2839 - val_loss: 0.1748\n",
            "Epoch 84/100\n",
            "774/774 [==============================] - ETA: 0s - loss: 0.2681\n",
            "Epoch 00084: val_loss did not improve from 0.14714\n",
            "774/774 [==============================] - 76s 99ms/step - loss: 0.2681 - val_loss: 0.1900\n",
            "Epoch 85/100\n",
            "774/774 [==============================] - ETA: 0s - loss: 0.2222\n",
            "Epoch 00085: val_loss did not improve from 0.14714\n",
            "774/774 [==============================] - 77s 99ms/step - loss: 0.2222 - val_loss: 0.1641\n",
            "Epoch 86/100\n",
            "774/774 [==============================] - ETA: 0s - loss: 0.2142\n",
            "Epoch 00086: val_loss did not improve from 0.14714\n",
            "774/774 [==============================] - 77s 99ms/step - loss: 0.2142 - val_loss: 0.1566\n",
            "Epoch 87/100\n",
            "774/774 [==============================] - ETA: 0s - loss: 0.2256\n",
            "Epoch 00087: val_loss did not improve from 0.14714\n",
            "774/774 [==============================] - 77s 100ms/step - loss: 0.2256 - val_loss: 0.1644\n",
            "Epoch 88/100\n",
            "774/774 [==============================] - ETA: 0s - loss: 0.2264\n",
            "Epoch 00088: val_loss did not improve from 0.14714\n",
            "774/774 [==============================] - 77s 99ms/step - loss: 0.2264 - val_loss: 0.1676\n",
            "Epoch 89/100\n",
            "774/774 [==============================] - ETA: 0s - loss: 0.2216\n",
            "Epoch 00089: val_loss did not improve from 0.14714\n",
            "774/774 [==============================] - 77s 99ms/step - loss: 0.2216 - val_loss: 0.1698\n",
            "Epoch 90/100\n",
            "774/774 [==============================] - ETA: 0s - loss: 0.2499\n",
            "Epoch 00090: val_loss did not improve from 0.14714\n",
            "774/774 [==============================] - 77s 100ms/step - loss: 0.2499 - val_loss: 0.1602\n",
            "Epoch 91/100\n",
            "774/774 [==============================] - ETA: 0s - loss: 0.2251\n",
            "Epoch 00091: val_loss did not improve from 0.14714\n",
            "774/774 [==============================] - 77s 99ms/step - loss: 0.2251 - val_loss: 0.2013\n",
            "Epoch 92/100\n",
            "774/774 [==============================] - ETA: 0s - loss: 0.2517\n",
            "Epoch 00092: val_loss did not improve from 0.14714\n",
            "774/774 [==============================] - 77s 99ms/step - loss: 0.2517 - val_loss: 0.1725\n",
            "Epoch 93/100\n",
            "774/774 [==============================] - ETA: 0s - loss: 0.4552\n",
            "Epoch 00093: val_loss did not improve from 0.14714\n",
            "774/774 [==============================] - 78s 100ms/step - loss: 0.4552 - val_loss: 0.2062\n",
            "Epoch 94/100\n",
            "774/774 [==============================] - ETA: 0s - loss: 0.2607\n",
            "Epoch 00094: val_loss did not improve from 0.14714\n",
            "774/774 [==============================] - 77s 100ms/step - loss: 0.2607 - val_loss: 0.1874\n",
            "Epoch 95/100\n",
            "774/774 [==============================] - ETA: 0s - loss: 0.2346\n",
            "Epoch 00095: val_loss did not improve from 0.14714\n",
            "774/774 [==============================] - 77s 100ms/step - loss: 0.2346 - val_loss: 0.1817\n",
            "Epoch 96/100\n",
            "774/774 [==============================] - ETA: 0s - loss: 0.2678\n",
            "Epoch 00096: val_loss did not improve from 0.14714\n",
            "774/774 [==============================] - 77s 100ms/step - loss: 0.2678 - val_loss: 0.1680\n",
            "Epoch 97/100\n",
            "774/774 [==============================] - ETA: 0s - loss: 0.2312\n",
            "Epoch 00097: val_loss did not improve from 0.14714\n",
            "774/774 [==============================] - 77s 99ms/step - loss: 0.2312 - val_loss: 0.1669\n",
            "Epoch 98/100\n",
            "774/774 [==============================] - ETA: 0s - loss: 0.2273\n",
            "Epoch 00098: val_loss did not improve from 0.14714\n",
            "774/774 [==============================] - 76s 99ms/step - loss: 0.2273 - val_loss: 0.1688\n",
            "Epoch 99/100\n",
            "774/774 [==============================] - ETA: 0s - loss: 0.2334\n",
            "Epoch 00099: val_loss did not improve from 0.14714\n",
            "774/774 [==============================] - 77s 99ms/step - loss: 0.2334 - val_loss: 0.1659\n",
            "Epoch 100/100\n",
            "774/774 [==============================] - ETA: 0s - loss: 0.2228\n",
            "Epoch 00100: val_loss did not improve from 0.14714\n",
            "774/774 [==============================] - 76s 98ms/step - loss: 0.2228 - val_loss: 0.1673\n"
          ],
          "name": "stdout"
        }
      ]
    },
    {
      "cell_type": "code",
      "metadata": {
        "id": "dwuF08LGjPQQ",
        "colab_type": "code",
        "outputId": "32c27082-3fd7-4b12-91a5-e57da6d10e1f",
        "colab": {
          "base_uri": "https://localhost:8080/",
          "height": 119
        }
      },
      "source": [
        "# restoring the best model\n",
        "autoencoder_loaded = tf.keras.models.load_model('autoencoder.h5') "
      ],
      "execution_count": 28,
      "outputs": [
        {
          "output_type": "stream",
          "text": [
            "WARNING:tensorflow:Layer lstm will not use cuDNN kernel since it doesn't meet the cuDNN kernel criteria. It will use generic GPU kernel as fallback when running on GPU\n",
            "WARNING:tensorflow:Layer lstm_1 will not use cuDNN kernel since it doesn't meet the cuDNN kernel criteria. It will use generic GPU kernel as fallback when running on GPU\n",
            "WARNING:tensorflow:Layer lstm_2 will not use cuDNN kernel since it doesn't meet the cuDNN kernel criteria. It will use generic GPU kernel as fallback when running on GPU\n",
            "WARNING:tensorflow:Layer lstm_3 will not use cuDNN kernel since it doesn't meet the cuDNN kernel criteria. It will use generic GPU kernel as fallback when running on GPU\n",
            "WARNING:tensorflow:Layer lstm_4 will not use cuDNN kernel since it doesn't meet the cuDNN kernel criteria. It will use generic GPU kernel as fallback when running on GPU\n",
            "WARNING:tensorflow:Error in loading the saved optimizer state. As a result, your model is starting with a freshly initialized optimizer.\n"
          ],
          "name": "stdout"
        }
      ]
    },
    {
      "cell_type": "markdown",
      "metadata": {
        "id": "RCpzf7oUF6ai",
        "colab_type": "text"
      },
      "source": [
        "The model is trained and the model with best parameters is restored. Now we have to load the test set and perform the same preprocessing steps done to the training data.\n",
        "\n",
        "We must use the same scaler and PCA objects that were fitted to the training data. This is done to maintain the consistency of transformation betwwen the train and test data."
      ]
    },
    {
      "cell_type": "markdown",
      "metadata": {
        "id": "3UCvQv9OKk5S",
        "colab_type": "text"
      },
      "source": [
        "### Test data pre-processing"
      ]
    },
    {
      "cell_type": "code",
      "metadata": {
        "id": "PkuSDyZIBGW-",
        "colab_type": "code",
        "outputId": "70f85c6b-97cf-4f86-e073-87546037c042",
        "colab": {
          "base_uri": "https://localhost:8080/",
          "height": 224
        }
      },
      "source": [
        "# loading the test dataframe\n",
        "test_df = pd.read_csv(TEST_DATA_PATH, header=None, names=col_names_cleaned)\n",
        "test_df.head()"
      ],
      "execution_count": 29,
      "outputs": [
        {
          "output_type": "execute_result",
          "data": {
            "text/html": [
              "<div>\n",
              "<style scoped>\n",
              "    .dataframe tbody tr th:only-of-type {\n",
              "        vertical-align: middle;\n",
              "    }\n",
              "\n",
              "    .dataframe tbody tr th {\n",
              "        vertical-align: top;\n",
              "    }\n",
              "\n",
              "    .dataframe thead th {\n",
              "        text-align: right;\n",
              "    }\n",
              "</style>\n",
              "<table border=\"1\" class=\"dataframe\">\n",
              "  <thead>\n",
              "    <tr style=\"text-align: right;\">\n",
              "      <th></th>\n",
              "      <th>duration</th>\n",
              "      <th>protocol_type</th>\n",
              "      <th>service</th>\n",
              "      <th>flag</th>\n",
              "      <th>src_bytes</th>\n",
              "      <th>dst_bytes</th>\n",
              "      <th>land</th>\n",
              "      <th>wrong_fragment</th>\n",
              "      <th>urgent</th>\n",
              "      <th>hot</th>\n",
              "      <th>num_failed_logins</th>\n",
              "      <th>logged_in</th>\n",
              "      <th>num_compromised</th>\n",
              "      <th>root_shell</th>\n",
              "      <th>su_attempted</th>\n",
              "      <th>num_root</th>\n",
              "      <th>num_file_creations</th>\n",
              "      <th>num_shells</th>\n",
              "      <th>num_access_files</th>\n",
              "      <th>num_outbound_cmds</th>\n",
              "      <th>is_host_login</th>\n",
              "      <th>is_guest_login</th>\n",
              "      <th>count</th>\n",
              "      <th>srv_count</th>\n",
              "      <th>serror_rate</th>\n",
              "      <th>srv_serror_rate</th>\n",
              "      <th>rerror_rate</th>\n",
              "      <th>srv_rerror_rate</th>\n",
              "      <th>same_srv_rate</th>\n",
              "      <th>diff_srv_rate</th>\n",
              "      <th>srv_diff_host_rate</th>\n",
              "      <th>dst_host_count</th>\n",
              "      <th>dst_host_srv_count</th>\n",
              "      <th>dst_host_same_srv_rate</th>\n",
              "      <th>dst_host_diff_srv_rate</th>\n",
              "      <th>dst_host_same_src_port_rate</th>\n",
              "      <th>dst_host_srv_diff_host_rate</th>\n",
              "      <th>dst_host_serror_rate</th>\n",
              "      <th>dst_host_srv_serror_rate</th>\n",
              "      <th>dst_host_rerror_rate</th>\n",
              "      <th>dst_host_srv_rerror_rate</th>\n",
              "      <th>result</th>\n",
              "    </tr>\n",
              "  </thead>\n",
              "  <tbody>\n",
              "    <tr>\n",
              "      <th>0</th>\n",
              "      <td>0</td>\n",
              "      <td>udp</td>\n",
              "      <td>private</td>\n",
              "      <td>SF</td>\n",
              "      <td>105</td>\n",
              "      <td>146</td>\n",
              "      <td>0</td>\n",
              "      <td>0</td>\n",
              "      <td>0</td>\n",
              "      <td>0</td>\n",
              "      <td>0</td>\n",
              "      <td>0</td>\n",
              "      <td>0</td>\n",
              "      <td>0</td>\n",
              "      <td>0</td>\n",
              "      <td>0</td>\n",
              "      <td>0</td>\n",
              "      <td>0</td>\n",
              "      <td>0</td>\n",
              "      <td>0</td>\n",
              "      <td>0</td>\n",
              "      <td>0</td>\n",
              "      <td>1</td>\n",
              "      <td>1</td>\n",
              "      <td>0.0</td>\n",
              "      <td>0.0</td>\n",
              "      <td>0.0</td>\n",
              "      <td>0.0</td>\n",
              "      <td>1.0</td>\n",
              "      <td>0.0</td>\n",
              "      <td>0.0</td>\n",
              "      <td>255</td>\n",
              "      <td>254</td>\n",
              "      <td>1.0</td>\n",
              "      <td>0.01</td>\n",
              "      <td>0.00</td>\n",
              "      <td>0.0</td>\n",
              "      <td>0.0</td>\n",
              "      <td>0.0</td>\n",
              "      <td>0.0</td>\n",
              "      <td>0.0</td>\n",
              "      <td>normal.</td>\n",
              "    </tr>\n",
              "    <tr>\n",
              "      <th>1</th>\n",
              "      <td>0</td>\n",
              "      <td>udp</td>\n",
              "      <td>private</td>\n",
              "      <td>SF</td>\n",
              "      <td>105</td>\n",
              "      <td>146</td>\n",
              "      <td>0</td>\n",
              "      <td>0</td>\n",
              "      <td>0</td>\n",
              "      <td>0</td>\n",
              "      <td>0</td>\n",
              "      <td>0</td>\n",
              "      <td>0</td>\n",
              "      <td>0</td>\n",
              "      <td>0</td>\n",
              "      <td>0</td>\n",
              "      <td>0</td>\n",
              "      <td>0</td>\n",
              "      <td>0</td>\n",
              "      <td>0</td>\n",
              "      <td>0</td>\n",
              "      <td>0</td>\n",
              "      <td>1</td>\n",
              "      <td>1</td>\n",
              "      <td>0.0</td>\n",
              "      <td>0.0</td>\n",
              "      <td>0.0</td>\n",
              "      <td>0.0</td>\n",
              "      <td>1.0</td>\n",
              "      <td>0.0</td>\n",
              "      <td>0.0</td>\n",
              "      <td>255</td>\n",
              "      <td>254</td>\n",
              "      <td>1.0</td>\n",
              "      <td>0.01</td>\n",
              "      <td>0.00</td>\n",
              "      <td>0.0</td>\n",
              "      <td>0.0</td>\n",
              "      <td>0.0</td>\n",
              "      <td>0.0</td>\n",
              "      <td>0.0</td>\n",
              "      <td>normal.</td>\n",
              "    </tr>\n",
              "    <tr>\n",
              "      <th>2</th>\n",
              "      <td>0</td>\n",
              "      <td>udp</td>\n",
              "      <td>private</td>\n",
              "      <td>SF</td>\n",
              "      <td>105</td>\n",
              "      <td>146</td>\n",
              "      <td>0</td>\n",
              "      <td>0</td>\n",
              "      <td>0</td>\n",
              "      <td>0</td>\n",
              "      <td>0</td>\n",
              "      <td>0</td>\n",
              "      <td>0</td>\n",
              "      <td>0</td>\n",
              "      <td>0</td>\n",
              "      <td>0</td>\n",
              "      <td>0</td>\n",
              "      <td>0</td>\n",
              "      <td>0</td>\n",
              "      <td>0</td>\n",
              "      <td>0</td>\n",
              "      <td>0</td>\n",
              "      <td>1</td>\n",
              "      <td>1</td>\n",
              "      <td>0.0</td>\n",
              "      <td>0.0</td>\n",
              "      <td>0.0</td>\n",
              "      <td>0.0</td>\n",
              "      <td>1.0</td>\n",
              "      <td>0.0</td>\n",
              "      <td>0.0</td>\n",
              "      <td>255</td>\n",
              "      <td>254</td>\n",
              "      <td>1.0</td>\n",
              "      <td>0.01</td>\n",
              "      <td>0.00</td>\n",
              "      <td>0.0</td>\n",
              "      <td>0.0</td>\n",
              "      <td>0.0</td>\n",
              "      <td>0.0</td>\n",
              "      <td>0.0</td>\n",
              "      <td>normal.</td>\n",
              "    </tr>\n",
              "    <tr>\n",
              "      <th>3</th>\n",
              "      <td>0</td>\n",
              "      <td>udp</td>\n",
              "      <td>private</td>\n",
              "      <td>SF</td>\n",
              "      <td>105</td>\n",
              "      <td>146</td>\n",
              "      <td>0</td>\n",
              "      <td>0</td>\n",
              "      <td>0</td>\n",
              "      <td>0</td>\n",
              "      <td>0</td>\n",
              "      <td>0</td>\n",
              "      <td>0</td>\n",
              "      <td>0</td>\n",
              "      <td>0</td>\n",
              "      <td>0</td>\n",
              "      <td>0</td>\n",
              "      <td>0</td>\n",
              "      <td>0</td>\n",
              "      <td>0</td>\n",
              "      <td>0</td>\n",
              "      <td>0</td>\n",
              "      <td>2</td>\n",
              "      <td>2</td>\n",
              "      <td>0.0</td>\n",
              "      <td>0.0</td>\n",
              "      <td>0.0</td>\n",
              "      <td>0.0</td>\n",
              "      <td>1.0</td>\n",
              "      <td>0.0</td>\n",
              "      <td>0.0</td>\n",
              "      <td>255</td>\n",
              "      <td>254</td>\n",
              "      <td>1.0</td>\n",
              "      <td>0.01</td>\n",
              "      <td>0.00</td>\n",
              "      <td>0.0</td>\n",
              "      <td>0.0</td>\n",
              "      <td>0.0</td>\n",
              "      <td>0.0</td>\n",
              "      <td>0.0</td>\n",
              "      <td>snmpgetattack.</td>\n",
              "    </tr>\n",
              "    <tr>\n",
              "      <th>4</th>\n",
              "      <td>0</td>\n",
              "      <td>udp</td>\n",
              "      <td>private</td>\n",
              "      <td>SF</td>\n",
              "      <td>105</td>\n",
              "      <td>146</td>\n",
              "      <td>0</td>\n",
              "      <td>0</td>\n",
              "      <td>0</td>\n",
              "      <td>0</td>\n",
              "      <td>0</td>\n",
              "      <td>0</td>\n",
              "      <td>0</td>\n",
              "      <td>0</td>\n",
              "      <td>0</td>\n",
              "      <td>0</td>\n",
              "      <td>0</td>\n",
              "      <td>0</td>\n",
              "      <td>0</td>\n",
              "      <td>0</td>\n",
              "      <td>0</td>\n",
              "      <td>0</td>\n",
              "      <td>2</td>\n",
              "      <td>2</td>\n",
              "      <td>0.0</td>\n",
              "      <td>0.0</td>\n",
              "      <td>0.0</td>\n",
              "      <td>0.0</td>\n",
              "      <td>1.0</td>\n",
              "      <td>0.0</td>\n",
              "      <td>0.0</td>\n",
              "      <td>255</td>\n",
              "      <td>254</td>\n",
              "      <td>1.0</td>\n",
              "      <td>0.01</td>\n",
              "      <td>0.01</td>\n",
              "      <td>0.0</td>\n",
              "      <td>0.0</td>\n",
              "      <td>0.0</td>\n",
              "      <td>0.0</td>\n",
              "      <td>0.0</td>\n",
              "      <td>snmpgetattack.</td>\n",
              "    </tr>\n",
              "  </tbody>\n",
              "</table>\n",
              "</div>"
            ],
            "text/plain": [
              "   duration protocol_type  ... dst_host_srv_rerror_rate          result\n",
              "0         0           udp  ...                      0.0         normal.\n",
              "1         0           udp  ...                      0.0         normal.\n",
              "2         0           udp  ...                      0.0         normal.\n",
              "3         0           udp  ...                      0.0  snmpgetattack.\n",
              "4         0           udp  ...                      0.0  snmpgetattack.\n",
              "\n",
              "[5 rows x 42 columns]"
            ]
          },
          "metadata": {
            "tags": []
          },
          "execution_count": 29
        }
      ]
    },
    {
      "cell_type": "code",
      "metadata": {
        "jupyter": {
          "source_hidden": true
        },
        "id": "_y_wiNL3gbw9",
        "colab_type": "code",
        "colab": {}
      },
      "source": [
        "# slicing only the rows belonging to http service\n",
        "test_df_http = test_df[test_df['service']=='http']"
      ],
      "execution_count": 0,
      "outputs": []
    },
    {
      "cell_type": "markdown",
      "metadata": {
        "id": "_RHguPI3MTt0",
        "colab_type": "text"
      },
      "source": [
        "While extracting windows out of test data, we a particular eindow to be anomalous if there are one or more anomalous samples in the window."
      ]
    },
    {
      "cell_type": "code",
      "metadata": {
        "id": "8_0HF0TOnT52",
        "colab_type": "code",
        "colab": {}
      },
      "source": [
        "# binary indicator to represent anomalies\n",
        "status = pd.Series([0 if i=='normal.' else 1 for i in test_df_http['result']])\n",
        "test_labels = [1 if np.sum(status[i:i+window_size])>0 else 0 for i in range(0, len(status)-window_size+1, stride)]"
      ],
      "execution_count": 0,
      "outputs": []
    },
    {
      "cell_type": "code",
      "metadata": {
        "jupyter": {
          "outputs_hidden": true,
          "source_hidden": true
        },
        "id": "ojEj89Bqgbw_",
        "colab_type": "code",
        "outputId": "a6276aa5-ebb1-441d-c16e-4aaf30422744",
        "colab": {
          "base_uri": "https://localhost:8080/",
          "height": 102
        }
      },
      "source": [
        "# dropping catrgorical columns\n",
        "test_df_http.drop(['protocol_type', 'service', 'flag', 'land', 'logged_in', 'is_host_login', 'is_guest_login', 'result'], axis=1, inplace=True)\n",
        "# dropping columns with no std deviation\n",
        "test_df_http.drop(['wrong_fragment', 'urgent', 'num_failed_logins', 'su_attempted', 'num_file_creations', 'num_outbound_cmds'], axis=1, inplace=True)"
      ],
      "execution_count": 32,
      "outputs": [
        {
          "output_type": "stream",
          "text": [
            "/usr/local/lib/python3.6/dist-packages/pandas/core/frame.py:3997: SettingWithCopyWarning: \n",
            "A value is trying to be set on a copy of a slice from a DataFrame\n",
            "\n",
            "See the caveats in the documentation: https://pandas.pydata.org/pandas-docs/stable/user_guide/indexing.html#returning-a-view-versus-a-copy\n",
            "  errors=errors,\n"
          ],
          "name": "stderr"
        }
      ]
    },
    {
      "cell_type": "code",
      "metadata": {
        "id": "wExv3_9bkyl5",
        "colab_type": "code",
        "colab": {}
      },
      "source": [
        "test_df_http = pd.DataFrame(scaler.transform(test_df_http), columns=test_df_http.columns)"
      ],
      "execution_count": 0,
      "outputs": []
    },
    {
      "cell_type": "code",
      "metadata": {
        "id": "DM1Abq_3gbxB",
        "colab_type": "code",
        "outputId": "b108e11a-6d64-4b01-9318-80caded60309",
        "colab": {
          "base_uri": "https://localhost:8080/",
          "height": 204
        }
      },
      "source": [
        "test_df_http_pca = pd.DataFrame(pca.transform(test_df_http), columns=pca_cols)\n",
        "test_df_http_pca.head()"
      ],
      "execution_count": 34,
      "outputs": [
        {
          "output_type": "execute_result",
          "data": {
            "text/html": [
              "<div>\n",
              "<style scoped>\n",
              "    .dataframe tbody tr th:only-of-type {\n",
              "        vertical-align: middle;\n",
              "    }\n",
              "\n",
              "    .dataframe tbody tr th {\n",
              "        vertical-align: top;\n",
              "    }\n",
              "\n",
              "    .dataframe thead th {\n",
              "        text-align: right;\n",
              "    }\n",
              "</style>\n",
              "<table border=\"1\" class=\"dataframe\">\n",
              "  <thead>\n",
              "    <tr style=\"text-align: right;\">\n",
              "      <th></th>\n",
              "      <th>PCA_0</th>\n",
              "      <th>PCA_1</th>\n",
              "      <th>PCA_2</th>\n",
              "      <th>PCA_3</th>\n",
              "      <th>PCA_4</th>\n",
              "      <th>PCA_5</th>\n",
              "      <th>PCA_6</th>\n",
              "      <th>PCA_7</th>\n",
              "      <th>PCA_8</th>\n",
              "      <th>PCA_9</th>\n",
              "      <th>PCA_10</th>\n",
              "      <th>PCA_11</th>\n",
              "      <th>PCA_12</th>\n",
              "      <th>PCA_13</th>\n",
              "    </tr>\n",
              "  </thead>\n",
              "  <tbody>\n",
              "    <tr>\n",
              "      <th>0</th>\n",
              "      <td>0.447803</td>\n",
              "      <td>-0.037561</td>\n",
              "      <td>-0.071583</td>\n",
              "      <td>-0.519532</td>\n",
              "      <td>0.682330</td>\n",
              "      <td>-0.205302</td>\n",
              "      <td>-0.274752</td>\n",
              "      <td>-0.070554</td>\n",
              "      <td>0.002780</td>\n",
              "      <td>-0.001089</td>\n",
              "      <td>-0.081894</td>\n",
              "      <td>0.064140</td>\n",
              "      <td>0.286993</td>\n",
              "      <td>-0.711321</td>\n",
              "    </tr>\n",
              "    <tr>\n",
              "      <th>1</th>\n",
              "      <td>-0.373923</td>\n",
              "      <td>11.626108</td>\n",
              "      <td>-0.761246</td>\n",
              "      <td>0.648020</td>\n",
              "      <td>-0.758655</td>\n",
              "      <td>-1.514405</td>\n",
              "      <td>3.321931</td>\n",
              "      <td>-0.439838</td>\n",
              "      <td>-0.056738</td>\n",
              "      <td>-0.015726</td>\n",
              "      <td>-0.136585</td>\n",
              "      <td>-0.650677</td>\n",
              "      <td>0.658160</td>\n",
              "      <td>-0.324815</td>\n",
              "    </tr>\n",
              "    <tr>\n",
              "      <th>2</th>\n",
              "      <td>0.751391</td>\n",
              "      <td>-0.036574</td>\n",
              "      <td>0.095399</td>\n",
              "      <td>-0.642058</td>\n",
              "      <td>0.691667</td>\n",
              "      <td>-0.157171</td>\n",
              "      <td>-0.723175</td>\n",
              "      <td>0.283788</td>\n",
              "      <td>-0.012771</td>\n",
              "      <td>-0.007231</td>\n",
              "      <td>-0.078363</td>\n",
              "      <td>0.380921</td>\n",
              "      <td>0.426132</td>\n",
              "      <td>-0.605115</td>\n",
              "    </tr>\n",
              "    <tr>\n",
              "      <th>3</th>\n",
              "      <td>1.099520</td>\n",
              "      <td>-0.256337</td>\n",
              "      <td>-0.075035</td>\n",
              "      <td>0.127901</td>\n",
              "      <td>-0.169646</td>\n",
              "      <td>0.016458</td>\n",
              "      <td>-0.299179</td>\n",
              "      <td>0.018593</td>\n",
              "      <td>0.001819</td>\n",
              "      <td>-0.005264</td>\n",
              "      <td>-0.044151</td>\n",
              "      <td>0.120868</td>\n",
              "      <td>0.233207</td>\n",
              "      <td>-0.385393</td>\n",
              "    </tr>\n",
              "    <tr>\n",
              "      <th>4</th>\n",
              "      <td>1.415546</td>\n",
              "      <td>-0.428898</td>\n",
              "      <td>-0.239097</td>\n",
              "      <td>0.787054</td>\n",
              "      <td>-0.880944</td>\n",
              "      <td>0.180008</td>\n",
              "      <td>0.052757</td>\n",
              "      <td>-0.087440</td>\n",
              "      <td>0.008501</td>\n",
              "      <td>-0.001091</td>\n",
              "      <td>0.021312</td>\n",
              "      <td>-0.060214</td>\n",
              "      <td>-0.194313</td>\n",
              "      <td>0.196281</td>\n",
              "    </tr>\n",
              "  </tbody>\n",
              "</table>\n",
              "</div>"
            ],
            "text/plain": [
              "      PCA_0      PCA_1     PCA_2  ...    PCA_11    PCA_12    PCA_13\n",
              "0  0.447803  -0.037561 -0.071583  ...  0.064140  0.286993 -0.711321\n",
              "1 -0.373923  11.626108 -0.761246  ... -0.650677  0.658160 -0.324815\n",
              "2  0.751391  -0.036574  0.095399  ...  0.380921  0.426132 -0.605115\n",
              "3  1.099520  -0.256337 -0.075035  ...  0.120868  0.233207 -0.385393\n",
              "4  1.415546  -0.428898 -0.239097  ... -0.060214 -0.194313  0.196281\n",
              "\n",
              "[5 rows x 14 columns]"
            ]
          },
          "metadata": {
            "tags": []
          },
          "execution_count": 34
        }
      ]
    },
    {
      "cell_type": "code",
      "metadata": {
        "id": "OCgCp-o5gbxD",
        "colab_type": "code",
        "outputId": "bdbc6b9c-b584-4a71-f535-7799f377323c",
        "colab": {
          "base_uri": "https://localhost:8080/",
          "height": 34
        }
      },
      "source": [
        "test_windows = get_windows(test_df_http_pca, window_size=10, stride=10)"
      ],
      "execution_count": 35,
      "outputs": [
        {
          "output_type": "stream",
          "text": [
            "100%|██████████| 4123/4123 [00:00<00:00, 8402.55it/s]\n"
          ],
          "name": "stderr"
        }
      ]
    },
    {
      "cell_type": "code",
      "metadata": {
        "id": "VlQCkChFgbxG",
        "colab_type": "code",
        "colab": {}
      },
      "source": [
        "test_windows_pred = autoencoder_loaded.predict(test_windows)"
      ],
      "execution_count": 0,
      "outputs": []
    },
    {
      "cell_type": "markdown",
      "metadata": {
        "id": "zcpSiHz9IVQX",
        "colab_type": "text"
      },
      "source": [
        "The reconstruction error is used a metric to predict the likelyhood of a sample/instance being anomalous.\n",
        "\n",
        "The reason beehind this is that we used only the normal data for reconstruction using the autoencoder. During inference, if the model encounters an anomalous sample, the encoder compresses it to a latent representation that is similar to that of normal data (because it has been trained to only compress normal data). This latent representation misses the information related to anomalous charactersitics and the decoder reconstructs this as a normal sample resulting in large reconstruction error.\n",
        "\n",
        "After calculating reconstruction errors for all the samples in the test data, we can scale them to [0, 1] range called the anomaly score. A threshold can be set on this anomaly score above which the sample is identified as anomalous."
      ]
    },
    {
      "cell_type": "code",
      "metadata": {
        "id": "Qm-Vvl4WqM-2",
        "colab_type": "code",
        "colab": {}
      },
      "source": [
        "# calculating reconstruction error for each sample\n",
        "# implemented in tensorflow for faster execution when gpu is available\n",
        "\n",
        "recon_errors = []\n",
        "\n",
        "def cond(y_true, y_pred, i, iters):\n",
        "  return tf.less(i, iters)\n",
        "\n",
        "def body(y_true, y_pred, i, iters):\n",
        "  tensor_for_error = tf.math.subtract(tf.slice(y_true, [i, 0, 0], [1, -1, -1]), tf.slice(y_pred, [i, 0, 0], [1, -1, -1]))\n",
        "  tensor_for_error = tf.reshape(tensor_for_error, [window_size, pca.n_components_])\n",
        "  recon_error = tf.math.reduce_mean(tf.norm(tensor_for_error, ord='euclidean', axis=1))\n",
        "  # this is the list initialized above\n",
        "  recon_errors.append(recon_error.numpy())\n",
        "  return [y_true, y_pred, tf.add(i, 1), iters]\n",
        "\n",
        "iters = tf.constant(len(test_windows))\n",
        "\n",
        "result = tf.while_loop(cond, body, [tf.constant(test_windows.astype(np.float32)), tf.constant(test_windows_pred.astype(np.float32)), 0, iters])"
      ],
      "execution_count": 0,
      "outputs": []
    },
    {
      "cell_type": "code",
      "metadata": {
        "id": "xKCF3hxW4ADu",
        "colab_type": "code",
        "colab": {}
      },
      "source": [
        "mm_scaler = MinMaxScaler()\n",
        "recon_errors = np.array(recon_errors).reshape(-1, 1)\n",
        "anomaly_scores = mm_scaler.fit_transform(recon_errors).flatten()"
      ],
      "execution_count": 0,
      "outputs": []
    },
    {
      "cell_type": "markdown",
      "metadata": {
        "id": "q-dJ6_gwNFD1",
        "colab_type": "text"
      },
      "source": [
        "Looking at the plot below, we can see that the model is able to succesfully identify most of the anomalies i.e the samples where both the blue and red lines are high."
      ]
    },
    {
      "cell_type": "code",
      "metadata": {
        "id": "eKcwzofZq0uQ",
        "colab_type": "code",
        "outputId": "5f31effc-3c5e-46f8-a98e-9422f8b875d4",
        "colab": {
          "base_uri": "https://localhost:8080/",
          "height": 606
        }
      },
      "source": [
        "plt.figure(figsize=(20, 10))\n",
        "plt.plot(test_labels, c='blue', label='original')\n",
        "plt.plot(anomaly_scores, c='red', label='predicted')\n",
        "plt.yticks(np.arange(0, 1.1, 0.1))\n",
        "plt.xlabel('samples')\n",
        "plt.ylabel('anomaly score')\n",
        "plt.grid()\n",
        "plt.legend()\n",
        "plt.show()"
      ],
      "execution_count": 46,
      "outputs": [
        {
          "output_type": "display_data",
          "data": {
            "image/png": "[encoded data removed]",
            "text/plain": [
              "<Figure size 1440x720 with 1 Axes>"
            ]
          },
          "metadata": {
            "tags": [],
            "needs_background": "light"
          }
        }
      ]
    },
    {
      "cell_type": "markdown",
      "metadata": {
        "id": "-MxoYis9WRGd",
        "colab_type": "text"
      },
      "source": [
        "### Measuring the effectiveness of classifier"
      ]
    },
    {
      "cell_type": "markdown",
      "metadata": {
        "id": "D2cChVQDQCxZ",
        "colab_type": "text"
      },
      "source": [
        "In a typical classification problem setting, ROC-AUC(receiver operating characteristic area under the curve) is used as the de-facto metric to measure the effectiveness of a classifier i.e. how well the classifier is able to distinguish between the two classes.\n",
        " ROC is the plot of TPR(true positive rate) vs FPR(false positive rate) as a result of different thresholds. Higher area (close to 1) under this curve indicates that the classifier is very good at distinguishing the classes and lower area (close to 0.5), the classifier cannot determine the difference between the classes, which is as good as a random guess."
      ]
    },
    {
      "cell_type": "code",
      "metadata": {
        "id": "bMFfLsWN3bFx",
        "colab_type": "code",
        "colab": {}
      },
      "source": [
        "fpr, tpr, thresholds = roc_curve(test_labels, anomaly_indicator)"
      ],
      "execution_count": 0,
      "outputs": []
    },
    {
      "cell_type": "code",
      "metadata": {
        "id": "zz3mfFTQ3UmY",
        "colab_type": "code",
        "outputId": "77d121ef-737b-4321-93dd-fa19bec6fd46",
        "colab": {
          "base_uri": "https://localhost:8080/",
          "height": 34
        }
      },
      "source": [
        "auc = roc_auc_score(test_labels, anomaly_indicator)\n",
        "print('Area under ROC curve: {}'.format(auc))"
      ],
      "execution_count": 50,
      "outputs": [
        {
          "output_type": "stream",
          "text": [
            "Area under ROC curve: 0.9981452339326364\n"
          ],
          "name": "stdout"
        }
      ]
    },
    {
      "cell_type": "markdown",
      "metadata": {
        "id": "fwCuR1AeSEoc",
        "colab_type": "text"
      },
      "source": [
        "The area under the curve is almost equal to 1 signifying the effectiveness of the classifier."
      ]
    },
    {
      "cell_type": "code",
      "metadata": {
        "id": "50m-2vzTZGd9",
        "colab_type": "code",
        "outputId": "94cf77bf-a41f-4a04-8c49-7470efd0daa0",
        "colab": {
          "base_uri": "https://localhost:8080/",
          "height": 350
        }
      },
      "source": [
        "plt.figure(figsize=(10,5))\n",
        "plt.plot([0, 1], [0, 1], color = 'black', linestyle='--')\n",
        "plt.plot(fpr, tpr, label='AUC={}'.format(auc))\n",
        "plt.grid()\n",
        "plt.xlabel('FPR')\n",
        "plt.ylabel('TPR')\n",
        "plt.legend()\n",
        "plt.title('ROC')\n",
        "plt.show()"
      ],
      "execution_count": 51,
      "outputs": [
        {
          "output_type": "display_data",
          "data": {
            "image/png": "[encoded data removed]",
            "text/plain": [
              "<Figure size 720x360 with 1 Axes>"
            ]
          },
          "metadata": {
            "tags": [],
            "needs_background": "light"
          }
        }
      ]
    },
    {
      "cell_type": "markdown",
      "metadata": {
        "id": "eRp347ZzMKoI",
        "colab_type": "text"
      },
      "source": [
        "### Identifying anomalies"
      ]
    },
    {
      "cell_type": "markdown",
      "metadata": {
        "id": "bdMCLeucNoa8",
        "colab_type": "text"
      },
      "source": [
        "Next comes the task of determining an optimal value of threshold above the the sample is labeled anomalous. As we can see from the above plot, the optimal threshold value is not 0.5 as this not a classification probel with class balance. From visual perspective , the threshold is nore likely to be in the range of [0.05, 0.15]\n",
        "\n",
        "Setting the thresold value too low can help in identifying all the anomalies but also the samples that are not actually anomalies are labeled as anomalies (false positives). This might not be a pleasant experience for the person monitoring through this application. A higher threshold value might prevent these false negatives but increase the risk of predicting the actual anomalies to be normal (false negatives). This might lead to ignorance of potential threats that could jeopadize the security of an organization.\n",
        "\n",
        "So, we use a metric called F-1 score which is the equally weighted harmonic mean of precision(measure of imapact of false positives) and recall(measure of imapact of false negatives. Finally we pick the threshold value with the highest F-1 score."
      ]
    },
    {
      "cell_type": "code",
      "metadata": {
        "id": "1u_S-1ZdbdMG",
        "colab_type": "code",
        "colab": {}
      },
      "source": [
        "anomaly_combinations = [(anomaly_scores>i).astype(np.int32) for i in thresholds]\n",
        "f1_scores = [f1_score(test_labels, i) for i in anomaly_combinations]"
      ],
      "execution_count": 0,
      "outputs": []
    },
    {
      "cell_type": "code",
      "metadata": {
        "id": "VnBeobQjgxS-",
        "colab_type": "code",
        "outputId": "1fe3bd1c-368b-48ff-a2f0-7f7da1886d42",
        "colab": {
          "base_uri": "https://localhost:8080/",
          "height": 350
        }
      },
      "source": [
        "plt.figure(figsize=(10, 5))\n",
        "plt.plot(thresholds, f1_scores)\n",
        "plt.grid()\n",
        "plt.xlabel('Thresholds')\n",
        "plt.ylabel('F-1 Score')\n",
        "plt.title('F-1 Score vs Thresholds')\n",
        "plt.show()"
      ],
      "execution_count": 53,
      "outputs": [
        {
          "output_type": "display_data",
          "data": {
            "image/png": "[encoded data removed]",
            "text/plain": [
              "<Figure size 720x360 with 1 Axes>"
            ]
          },
          "metadata": {
            "tags": [],
            "needs_background": "light"
          }
        }
      ]
    },
    {
      "cell_type": "code",
      "metadata": {
        "id": "ETVMbssviEJl",
        "colab_type": "code",
        "outputId": "3060f070-d824-4948-88f6-7b3620732eaa",
        "colab": {
          "base_uri": "https://localhost:8080/",
          "height": 34
        }
      },
      "source": [
        "max_f1_score = np.max(f1_scores)\n",
        "best_threshold = thresholds[f1_scores.index(max_f1_score)]\n",
        "print('best threshold = {}'.format(best_threshold))"
      ],
      "execution_count": 54,
      "outputs": [
        {
          "output_type": "stream",
          "text": [
            "best threshold = 0.09994484484195709\n"
          ],
          "name": "stdout"
        }
      ]
    },
    {
      "cell_type": "code",
      "metadata": {
        "id": "zEEVq9qOSwOj",
        "colab_type": "code",
        "colab": {}
      },
      "source": [
        "anomaly_indicator = (anomaly_scores>best_threshold).astype(np.int32)"
      ],
      "execution_count": 0,
      "outputs": []
    },
    {
      "cell_type": "code",
      "metadata": {
        "id": "JkaYdiKKjI6v",
        "colab_type": "code",
        "outputId": "c63645a1-5349-4860-c687-3764399c75c5",
        "colab": {
          "base_uri": "https://localhost:8080/",
          "height": 51
        }
      },
      "source": [
        "confusion_matrix(test_labels, anomaly_indicator)"
      ],
      "execution_count": 80,
      "outputs": [
        {
          "output_type": "execute_result",
          "data": {
            "text/plain": [
              "array([[3870,   11],\n",
              "       [  18,  224]])"
            ]
          },
          "metadata": {
            "tags": []
          },
          "execution_count": 80
        }
      ]
    },
    {
      "cell_type": "code",
      "metadata": {
        "id": "_vt8TMvnjeo8",
        "colab_type": "code",
        "colab": {}
      },
      "source": [
        "anomaly_identifier = ['normal' if i==0 else 'anomaly' for i in anomaly_indicator]"
      ],
      "execution_count": 0,
      "outputs": []
    },
    {
      "cell_type": "code",
      "metadata": {
        "id": "OyScrZsGM5dk",
        "colab_type": "code",
        "colab": {
          "base_uri": "https://localhost:8080/",
          "height": 592
        },
        "outputId": "62835002-54d8-4997-9ed4-e9e3cd561b34"
      },
      "source": [
        "plt.figure(figsize=(20,10))\n",
        "sns.scatterplot(x=np.arange(0, len(anomaly_scores)), y= anomaly_scores, hue=anomaly_identifier,\n",
        "                palette=['blue', 'red'], legend='full')\n",
        "plt.axhline(y = best_threshold, linestyle='--', label='threshold')\n",
        "plt.legend()\n",
        "plt.grid()\n",
        "plt.show()"
      ],
      "execution_count": 77,
      "outputs": [
        {
          "output_type": "display_data",
          "data": {
            "image/png": "[encoded data removed]",
            "text/plain": [
              "<Figure size 1440x720 with 1 Axes>"
            ]
          },
          "metadata": {
            "tags": [],
            "needs_background": "light"
          }
        }
      ]
    },
    {
      "cell_type": "markdown",
      "metadata": {
        "id": "b21OV44iW-tv",
        "colab_type": "text"
      },
      "source": [
        "### Performance metrics"
      ]
    },
    {
      "cell_type": "code",
      "metadata": {
        "id": "i-6JKdhCXCc9",
        "colab_type": "code",
        "colab": {}
      },
      "source": [
        "precision = precision_score(test_labels, anomaly_indicator)\n",
        "recall = recall_score(test_labels, anomaly_indicator)\n",
        "f1_sc = f1_score(test_labels, anomaly_indicator)\n",
        "accuracy_sc = accuracy_score(test_labels, anomaly_indicator)"
      ],
      "execution_count": 0,
      "outputs": []
    },
    {
      "cell_type": "code",
      "metadata": {
        "id": "Q97--9dXXg4A",
        "colab_type": "code",
        "colab": {
          "base_uri": "https://localhost:8080/",
          "height": 102
        },
        "outputId": "f276c6ef-b24e-49e8-977b-65f9eb8ffdd5"
      },
      "source": [
        "print('Model has the following classification metrics:\\n precision = {}\\n recall = {}\\n f1_score = {}\\n accuracy_score = {}'\n",
        "      .format(precision, recall, f1_sc, accuracy_sc))"
      ],
      "execution_count": 83,
      "outputs": [
        {
          "output_type": "stream",
          "text": [
            "Model has the following classification metrics:\n",
            " precision = 0.9531914893617022\n",
            " recall = 0.9256198347107438\n",
            " f1_score = 0.9392033542976939\n",
            " accuracy_score = 0.9929662866844531\n"
          ],
          "name": "stdout"
        }
      ]
    },
    {
      "cell_type": "code",
      "metadata": {
        "id": "ht_pjkifZ_VD",
        "colab_type": "code",
        "colab": {}
      },
      "source": [
        ""
      ],
      "execution_count": 0,
      "outputs": []
    }
  ]
}